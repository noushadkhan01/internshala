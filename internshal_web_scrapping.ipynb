{
  "nbformat": 4,
  "nbformat_minor": 0,
  "metadata": {
    "colab": {
      "name": "internshal web scrapping.ipynb",
      "provenance": [],
      "collapsed_sections": [],
      "authorship_tag": "ABX9TyP1hvIOVayf1/qDMqzn1s5r",
      "include_colab_link": true
    },
    "kernelspec": {
      "name": "python3",
      "display_name": "Python 3"
    }
  },
  "cells": [
    {
      "cell_type": "markdown",
      "metadata": {
        "id": "view-in-github",
        "colab_type": "text"
      },
      "source": [
        "<a href=\"https://colab.research.google.com/github/noushadkhan01/internshala/blob/master/internshal_web_scrapping.ipynb\" target=\"_parent\"><img src=\"https://colab.research.google.com/assets/colab-badge.svg\" alt=\"Open In Colab\"/></a>"
      ]
    },
    {
      "cell_type": "code",
      "metadata": {
        "id": "IwqXaMqhRFp0",
        "colab_type": "code",
        "colab": {}
      },
      "source": [
        "def clean_text(text):\n",
        "  import string\n",
        "  punctuations = string.punctuation.replace('-', '').replace(\"'\", '') + '\\n'\n",
        "  text = [i for i in text if i not in punctuations]\n",
        "  text = ''.join(text)\n",
        "  text = text.strip()\n",
        "  return text"
      ],
      "execution_count": 0,
      "outputs": []
    },
    {
      "cell_type": "code",
      "metadata": {
        "id": "lvxNak4tYj6S",
        "colab_type": "code",
        "colab": {}
      },
      "source": [
        "def clean_stipend(text):\n",
        "  import numpy as np\n",
        "  text = text.lower().strip()\n",
        "  text = [i for i in text]\n",
        "  a = ''\n",
        "  final_text = ''\n",
        "  for i in text:\n",
        "    a += i\n",
        "    try:\n",
        "      np.float64(a)\n",
        "      final_text = a\n",
        "    except:\n",
        "      break\n",
        "  if final_text:\n",
        "    return np.float64(final_text)\n",
        "  return np.nan"
      ],
      "execution_count": 0,
      "outputs": []
    },
    {
      "cell_type": "code",
      "metadata": {
        "id": "BhzdE8hFgNVy",
        "colab_type": "code",
        "colab": {}
      },
      "source": [
        "def clean_apply_by(text):\n",
        "  f = text.find(\"'\")\n",
        "  text = text[:f] + ' 2020'\n",
        "  if text == 'Not Provide 2020':\n",
        "    return np.nan\n",
        "  return text"
      ],
      "execution_count": 0,
      "outputs": []
    },
    {
      "cell_type": "code",
      "metadata": {
        "id": "zvFmosUph2jZ",
        "colab_type": "code",
        "colab": {}
      },
      "source": [
        "def apply_by_to_date(text):\n",
        "  from datetime import datetime\n",
        "  a = datetime.strptime(text, '%d %b %Y')\n",
        "  return a"
      ],
      "execution_count": 0,
      "outputs": []
    },
    {
      "cell_type": "code",
      "metadata": {
        "id": "ZM6BoLanj1fI",
        "colab_type": "code",
        "colab": {}
      },
      "source": [
        "def get_internshala_internships(url, n = 0):\n",
        "  import numpy as np\n",
        "  import pandas as pd\n",
        "  import requests \n",
        "  from bs4 import BeautifulSoup\n",
        "  all_items = []\n",
        "  no_internship_text = \":( Sorry, We couldn't find internships matching your requirements.\"\n",
        "  while True:\n",
        "    print(f'n is {n}')\n",
        "    if n:\n",
        "      url = url + f'/page-{n}'\n",
        "    try:\n",
        "      html = requests.get(url)\n",
        "      soup = BeautifulSoup(html.content, 'lxml')\n",
        "      all_internship = soup.find_all('div', class_ = 'individual_internship')\n",
        "      text = all_internship[0].find('h4').text\n",
        "      if text == no_internship_text:\n",
        "        print(no_internship_text)\n",
        "        break\n",
        "      l = len(all_internship)\n",
        "      n2 = 0\n",
        "      for i in all_internship:\n",
        "        try:\n",
        "          id = i.get('internshipid')\n",
        "          location = i.find_all('a', class_ = 'location_link')[0].text\n",
        "          link = 'https://internshala.com/' + i.find_all('a')[0].get('href')\n",
        "          td = i.find_all('table')[0].find_all('td')\n",
        "          start_date = td[0].text\n",
        "          duration = td[1].text\n",
        "          stipend = td[2].text\n",
        "          posted_on = td[3].text\n",
        "          apply_by = td[4].text\n",
        "          items = [id, location, start_date, duration, stipend, posted_on, apply_by]\n",
        "          items = list(map(clean_text, items))\n",
        "          items.insert(2, link)\n",
        "          del id, location, link, start_date, duration, stipend, posted_on, apply_by\n",
        "          all_items.append(items)\n",
        "          n2 += 1\n",
        "        except:\n",
        "          continue\n",
        "      n += 1\n",
        "    except Exception as e:\n",
        "      print(f'{e.__class__.__name__}:--- {e.args[0]}')\n",
        "      break\n",
        "  if len(all_items) == 0:\n",
        "    return no_internship_text\n",
        "  df = pd.DataFrame(np.array(all_items), columns = ['id', 'location', 'link', 'start_date', 'duration', 'stipend', 'posted_on', 'apply_by'])\n",
        "  df.drop_duplicates(inplace = True)\n",
        "  df['stipend'] = df.stipend.apply(clean_stipend)\n",
        "  df['apply_by'] = df['apply_by'].apply(clean_apply_by)\n",
        "  df['apply_by'] = df['apply_by'].apply(apply_by_to_date)\n",
        "  df.dropna(inplace = True)\n",
        "  return df"
      ],
      "execution_count": 0,
      "outputs": []
    },
    {
      "cell_type": "code",
      "metadata": {
        "id": "hrfiLXY4geY6",
        "colab_type": "code",
        "colab": {}
      },
      "source": [
        "url = 'https://internshala.com/internships/work-from-home-data%20science,machine%20learning-jobs'"
      ],
      "execution_count": 0,
      "outputs": []
    },
    {
      "cell_type": "code",
      "metadata": {
        "id": "ZxPKh_2UeuN-",
        "colab_type": "code",
        "colab": {
          "base_uri": "https://localhost:8080/",
          "height": 102
        },
        "outputId": "9e2b68bf-498d-4a1b-c0ae-579feb0d33aa"
      },
      "source": [
        "work_from_home = get_internshala_internships(url)"
      ],
      "execution_count": 112,
      "outputs": [
        {
          "output_type": "stream",
          "text": [
            "n is 0\n",
            "n is 1\n",
            "n is 2\n",
            "n is 3\n",
            ":( Sorry, We couldn't find internships matching your requirements.\n"
          ],
          "name": "stdout"
        }
      ]
    },
    {
      "cell_type": "code",
      "metadata": {
        "id": "-MBBaLIOj6xr",
        "colab_type": "code",
        "colab": {
          "base_uri": "https://localhost:8080/",
          "height": 204
        },
        "outputId": "41d7529f-eb67-4bf5-9f0e-0fff91c22c27"
      },
      "source": [
        "work_from_home.head()"
      ],
      "execution_count": 113,
      "outputs": [
        {
          "output_type": "execute_result",
          "data": {
            "text/html": [
              "<div>\n",
              "<style scoped>\n",
              "    .dataframe tbody tr th:only-of-type {\n",
              "        vertical-align: middle;\n",
              "    }\n",
              "\n",
              "    .dataframe tbody tr th {\n",
              "        vertical-align: top;\n",
              "    }\n",
              "\n",
              "    .dataframe thead th {\n",
              "        text-align: right;\n",
              "    }\n",
              "</style>\n",
              "<table border=\"1\" class=\"dataframe\">\n",
              "  <thead>\n",
              "    <tr style=\"text-align: right;\">\n",
              "      <th></th>\n",
              "      <th>id</th>\n",
              "      <th>location</th>\n",
              "      <th>link</th>\n",
              "      <th>start_date</th>\n",
              "      <th>duration</th>\n",
              "      <th>stipend</th>\n",
              "      <th>posted_on</th>\n",
              "      <th>apply_by</th>\n",
              "    </tr>\n",
              "  </thead>\n",
              "  <tbody>\n",
              "    <tr>\n",
              "      <th>0</th>\n",
              "      <td>886861</td>\n",
              "      <td>Work From Home</td>\n",
              "      <td>https://internshala.com//internship/detail/dee...</td>\n",
              "      <td>Immediately</td>\n",
              "      <td>6 Months</td>\n",
              "      <td>2000.0</td>\n",
              "      <td>26 Mar'20</td>\n",
              "      <td>2020-04-23</td>\n",
              "    </tr>\n",
              "    <tr>\n",
              "      <th>1</th>\n",
              "      <td>884133</td>\n",
              "      <td>Work From Home</td>\n",
              "      <td>https://internshala.com//internship/detail/dat...</td>\n",
              "      <td>20 Apr - 30 Apr'20</td>\n",
              "      <td>4 Months</td>\n",
              "      <td>1000.0</td>\n",
              "      <td>20 Mar'20</td>\n",
              "      <td>2020-04-17</td>\n",
              "    </tr>\n",
              "    <tr>\n",
              "      <th>2</th>\n",
              "      <td>877851</td>\n",
              "      <td>Work From Home</td>\n",
              "      <td>https://internshala.com//internship/detail/tea...</td>\n",
              "      <td>Immediately</td>\n",
              "      <td>6 Months</td>\n",
              "      <td>15000.0</td>\n",
              "      <td>15 Mar'20</td>\n",
              "      <td>2020-04-13</td>\n",
              "    </tr>\n",
              "    <tr>\n",
              "      <th>3</th>\n",
              "      <td>886851</td>\n",
              "      <td>Work From Home</td>\n",
              "      <td>https://internshala.com//internship/detail/dia...</td>\n",
              "      <td>Immediately</td>\n",
              "      <td>1 Month</td>\n",
              "      <td>2000.0</td>\n",
              "      <td>31 Mar'20</td>\n",
              "      <td>2020-04-28</td>\n",
              "    </tr>\n",
              "    <tr>\n",
              "      <th>5</th>\n",
              "      <td>888678</td>\n",
              "      <td>Work From Home</td>\n",
              "      <td>https://internshala.com//internship/detail/bus...</td>\n",
              "      <td>Immediately</td>\n",
              "      <td>3 Months</td>\n",
              "      <td>5000.0</td>\n",
              "      <td>31 Mar'20</td>\n",
              "      <td>2020-04-28</td>\n",
              "    </tr>\n",
              "  </tbody>\n",
              "</table>\n",
              "</div>"
            ],
            "text/plain": [
              "       id        location  ...  posted_on   apply_by\n",
              "0  886861  Work From Home  ...  26 Mar'20 2020-04-23\n",
              "1  884133  Work From Home  ...  20 Mar'20 2020-04-17\n",
              "2  877851  Work From Home  ...  15 Mar'20 2020-04-13\n",
              "3  886851  Work From Home  ...  31 Mar'20 2020-04-28\n",
              "5  888678  Work From Home  ...  31 Mar'20 2020-04-28\n",
              "\n",
              "[5 rows x 8 columns]"
            ]
          },
          "metadata": {
            "tags": []
          },
          "execution_count": 113
        }
      ]
    },
    {
      "cell_type": "code",
      "metadata": {
        "id": "Jy2Nj4Tee5H9",
        "colab_type": "code",
        "colab": {
          "base_uri": "https://localhost:8080/",
          "height": 34
        },
        "outputId": "a11eb7ab-3296-41b8-fb71-c1b40fc34acf"
      },
      "source": [
        "work_from_home.shape"
      ],
      "execution_count": 115,
      "outputs": [
        {
          "output_type": "execute_result",
          "data": {
            "text/plain": [
              "(46, 8)"
            ]
          },
          "metadata": {
            "tags": []
          },
          "execution_count": 115
        }
      ]
    },
    {
      "cell_type": "code",
      "metadata": {
        "id": "XOqbwWwCtUQj",
        "colab_type": "code",
        "colab": {}
      },
      "source": [
        "work_from_home.sort_values(by = 'apply_by', inplace = True)"
      ],
      "execution_count": 0,
      "outputs": []
    },
    {
      "cell_type": "code",
      "metadata": {
        "id": "V0LPHPk0tY0J",
        "colab_type": "code",
        "colab": {
          "base_uri": "https://localhost:8080/",
          "height": 111
        },
        "outputId": "869226ac-f10b-49a5-d3f7-ed702d76d221"
      },
      "source": [
        "work_from_home.head(2)"
      ],
      "execution_count": 117,
      "outputs": [
        {
          "output_type": "execute_result",
          "data": {
            "text/html": [
              "<div>\n",
              "<style scoped>\n",
              "    .dataframe tbody tr th:only-of-type {\n",
              "        vertical-align: middle;\n",
              "    }\n",
              "\n",
              "    .dataframe tbody tr th {\n",
              "        vertical-align: top;\n",
              "    }\n",
              "\n",
              "    .dataframe thead th {\n",
              "        text-align: right;\n",
              "    }\n",
              "</style>\n",
              "<table border=\"1\" class=\"dataframe\">\n",
              "  <thead>\n",
              "    <tr style=\"text-align: right;\">\n",
              "      <th></th>\n",
              "      <th>id</th>\n",
              "      <th>location</th>\n",
              "      <th>link</th>\n",
              "      <th>start_date</th>\n",
              "      <th>duration</th>\n",
              "      <th>stipend</th>\n",
              "      <th>posted_on</th>\n",
              "      <th>apply_by</th>\n",
              "    </tr>\n",
              "  </thead>\n",
              "  <tbody>\n",
              "    <tr>\n",
              "      <th>19</th>\n",
              "      <td>887271</td>\n",
              "      <td>Work From Home</td>\n",
              "      <td>https://internshala.com//internship/detail/art...</td>\n",
              "      <td>Immediately</td>\n",
              "      <td>4 Months</td>\n",
              "      <td>5000.0</td>\n",
              "      <td>26 Mar'20</td>\n",
              "      <td>2020-04-09</td>\n",
              "    </tr>\n",
              "    <tr>\n",
              "      <th>85</th>\n",
              "      <td>875255</td>\n",
              "      <td>Work From Home</td>\n",
              "      <td>https://internshala.com//internship/detail/bus...</td>\n",
              "      <td>Immediately</td>\n",
              "      <td>2 Months</td>\n",
              "      <td>5000.0</td>\n",
              "      <td>11 Mar'20</td>\n",
              "      <td>2020-04-09</td>\n",
              "    </tr>\n",
              "  </tbody>\n",
              "</table>\n",
              "</div>"
            ],
            "text/plain": [
              "        id        location  ...  posted_on   apply_by\n",
              "19  887271  Work From Home  ...  26 Mar'20 2020-04-09\n",
              "85  875255  Work From Home  ...  11 Mar'20 2020-04-09\n",
              "\n",
              "[2 rows x 8 columns]"
            ]
          },
          "metadata": {
            "tags": []
          },
          "execution_count": 117
        }
      ]
    },
    {
      "cell_type": "code",
      "metadata": {
        "id": "oT9ZLVBrtadH",
        "colab_type": "code",
        "colab": {
          "base_uri": "https://localhost:8080/",
          "height": 34
        },
        "outputId": "4bb43050-8ac5-42d0-ea31-d9e13058e4fc"
      },
      "source": [
        "useful_data = work_from_home[work_from_home.apply_by <= '2020-04-10']\n",
        "useful_data.shape"
      ],
      "execution_count": 118,
      "outputs": [
        {
          "output_type": "execute_result",
          "data": {
            "text/plain": [
              "(4, 8)"
            ]
          },
          "metadata": {
            "tags": []
          },
          "execution_count": 118
        }
      ]
    },
    {
      "cell_type": "code",
      "metadata": {
        "id": "l26lfMsPtzKe",
        "colab_type": "code",
        "colab": {
          "base_uri": "https://localhost:8080/",
          "height": 102
        },
        "outputId": "5523379c-0c0b-4c04-d7b1-0623a3d79eb3"
      },
      "source": [
        "useful_data.sort_values(by = 'stipend', ascending = False, inplace = True)"
      ],
      "execution_count": 121,
      "outputs": [
        {
          "output_type": "stream",
          "text": [
            "/usr/local/lib/python3.6/dist-packages/ipykernel_launcher.py:1: SettingWithCopyWarning: \n",
            "A value is trying to be set on a copy of a slice from a DataFrame\n",
            "\n",
            "See the caveats in the documentation: http://pandas.pydata.org/pandas-docs/stable/user_guide/indexing.html#returning-a-view-versus-a-copy\n",
            "  \"\"\"Entry point for launching an IPython kernel.\n"
          ],
          "name": "stderr"
        }
      ]
    },
    {
      "cell_type": "code",
      "metadata": {
        "id": "rUOklWg8t1yd",
        "colab_type": "code",
        "colab": {
          "base_uri": "https://localhost:8080/",
          "height": 173
        },
        "outputId": "9f1acd83-cd2c-4e54-84f7-7eeb326801df"
      },
      "source": [
        "useful_data"
      ],
      "execution_count": 122,
      "outputs": [
        {
          "output_type": "execute_result",
          "data": {
            "text/html": [
              "<div>\n",
              "<style scoped>\n",
              "    .dataframe tbody tr th:only-of-type {\n",
              "        vertical-align: middle;\n",
              "    }\n",
              "\n",
              "    .dataframe tbody tr th {\n",
              "        vertical-align: top;\n",
              "    }\n",
              "\n",
              "    .dataframe thead th {\n",
              "        text-align: right;\n",
              "    }\n",
              "</style>\n",
              "<table border=\"1\" class=\"dataframe\">\n",
              "  <thead>\n",
              "    <tr style=\"text-align: right;\">\n",
              "      <th></th>\n",
              "      <th>id</th>\n",
              "      <th>location</th>\n",
              "      <th>link</th>\n",
              "      <th>start_date</th>\n",
              "      <th>duration</th>\n",
              "      <th>stipend</th>\n",
              "      <th>posted_on</th>\n",
              "      <th>apply_by</th>\n",
              "    </tr>\n",
              "  </thead>\n",
              "  <tbody>\n",
              "    <tr>\n",
              "      <th>84</th>\n",
              "      <td>869810</td>\n",
              "      <td>Work From Home</td>\n",
              "      <td>https://internshala.com//internship/detail/dat...</td>\n",
              "      <td>Immediately</td>\n",
              "      <td>3 Months</td>\n",
              "      <td>25000.0</td>\n",
              "      <td>12 Mar'20</td>\n",
              "      <td>2020-04-10</td>\n",
              "    </tr>\n",
              "    <tr>\n",
              "      <th>19</th>\n",
              "      <td>887271</td>\n",
              "      <td>Work From Home</td>\n",
              "      <td>https://internshala.com//internship/detail/art...</td>\n",
              "      <td>Immediately</td>\n",
              "      <td>4 Months</td>\n",
              "      <td>5000.0</td>\n",
              "      <td>26 Mar'20</td>\n",
              "      <td>2020-04-09</td>\n",
              "    </tr>\n",
              "    <tr>\n",
              "      <th>85</th>\n",
              "      <td>875255</td>\n",
              "      <td>Work From Home</td>\n",
              "      <td>https://internshala.com//internship/detail/bus...</td>\n",
              "      <td>Immediately</td>\n",
              "      <td>2 Months</td>\n",
              "      <td>5000.0</td>\n",
              "      <td>11 Mar'20</td>\n",
              "      <td>2020-04-09</td>\n",
              "    </tr>\n",
              "    <tr>\n",
              "      <th>82</th>\n",
              "      <td>876162</td>\n",
              "      <td>Work From Home</td>\n",
              "      <td>https://internshala.com//internship/detail/web...</td>\n",
              "      <td>Immediately</td>\n",
              "      <td>2 Months</td>\n",
              "      <td>1000.0</td>\n",
              "      <td>12 Mar'20</td>\n",
              "      <td>2020-04-10</td>\n",
              "    </tr>\n",
              "  </tbody>\n",
              "</table>\n",
              "</div>"
            ],
            "text/plain": [
              "        id        location  ...  posted_on   apply_by\n",
              "84  869810  Work From Home  ...  12 Mar'20 2020-04-10\n",
              "19  887271  Work From Home  ...  26 Mar'20 2020-04-09\n",
              "85  875255  Work From Home  ...  11 Mar'20 2020-04-09\n",
              "82  876162  Work From Home  ...  12 Mar'20 2020-04-10\n",
              "\n",
              "[4 rows x 8 columns]"
            ]
          },
          "metadata": {
            "tags": []
          },
          "execution_count": 122
        }
      ]
    },
    {
      "cell_type": "code",
      "metadata": {
        "id": "zjqTqvk0uQwN",
        "colab_type": "code",
        "colab": {
          "base_uri": "https://localhost:8080/",
          "height": 105
        },
        "outputId": "2c493a67-ec6d-45e5-e753-fe53d28f2353"
      },
      "source": [
        "print(useful_data.link.values)"
      ],
      "execution_count": 125,
      "outputs": [
        {
          "output_type": "stream",
          "text": [
            "['https://internshala.com//internship/detail/data-analytics-work-from-home-job-internship-at-stoic-investment-managers1583232868'\n",
            " 'https://internshala.com//internship/detail/artificial-intelligence-machine-learning-image-processing-work-from-home-job-internship-at-inventgrid-india-private-limited1585241191'\n",
            " 'https://internshala.com//internship/detail/business-analytics-work-from-home-job-internship-at-stirring-minds1583753814'\n",
            " 'https://internshala.com//internship/detail/web-scrapping-and-data-analytics-work-from-home-job-internship-at-heycloudy1583905948']\n"
          ],
          "name": "stdout"
        }
      ]
    },
    {
      "cell_type": "markdown",
      "metadata": {
        "id": "owbAGKe6uA5j",
        "colab_type": "text"
      },
      "source": [
        ""
      ]
    }
  ]
}