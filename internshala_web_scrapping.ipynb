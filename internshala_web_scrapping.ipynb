{
  "nbformat": 4,
  "nbformat_minor": 0,
  "metadata": {
    "colab": {
      "name": "internshal web scrapping.ipynb",
      "provenance": [],
      "collapsed_sections": [],
      "authorship_tag": "ABX9TyO5aVgadmG1Nv89xoHalAli",
      "include_colab_link": true
    },
    "kernelspec": {
      "name": "python3",
      "display_name": "Python 3"
    }
  },
  "cells": [
    {
      "cell_type": "markdown",
      "metadata": {
        "id": "view-in-github",
        "colab_type": "text"
      },
      "source": [
        "<a href=\"https://colab.research.google.com/github/noushadkhan01/internshala/blob/master/internshala_web_scrapping.ipynb\" target=\"_parent\"><img src=\"https://colab.research.google.com/assets/colab-badge.svg\" alt=\"Open In Colab\"/></a>"
      ]
    },
    {
      "cell_type": "code",
      "metadata": {
        "id": "IwqXaMqhRFp0",
        "colab_type": "code",
        "colab": {}
      },
      "source": [
        "def clean_text(text):\n",
        "  import string\n",
        "  punctuations = string.punctuation.replace('-', '').replace(\"'\", '') + '\\n'\n",
        "  text = [i for i in text if i not in punctuations]\n",
        "  text = ''.join(text)\n",
        "  text = text.strip()\n",
        "  return text"
      ],
      "execution_count": 0,
      "outputs": []
    },
    {
      "cell_type": "code",
      "metadata": {
        "id": "lvxNak4tYj6S",
        "colab_type": "code",
        "colab": {}
      },
      "source": [
        "def clean_stipend(text):\n",
        "  import numpy as np\n",
        "  text = text.lower().strip()\n",
        "  text = [i for i in text]\n",
        "  a = ''\n",
        "  final_text = ''\n",
        "  for i in text:\n",
        "    a += i\n",
        "    try:\n",
        "      np.float64(a)\n",
        "      final_text = a\n",
        "    except:\n",
        "      break\n",
        "  if final_text:\n",
        "    return np.float64(final_text)\n",
        "  return np.nan"
      ],
      "execution_count": 0,
      "outputs": []
    },
    {
      "cell_type": "code",
      "metadata": {
        "id": "BhzdE8hFgNVy",
        "colab_type": "code",
        "colab": {}
      },
      "source": [
        "def clean_apply_by(text):\n",
        "  f = text.find(\"'\")\n",
        "  text = text[:f] + ' 2020'\n",
        "  if text == 'Not Provide 2020':\n",
        "    return np.nan\n",
        "  return text"
      ],
      "execution_count": 0,
      "outputs": []
    },
    {
      "cell_type": "code",
      "metadata": {
        "id": "zvFmosUph2jZ",
        "colab_type": "code",
        "colab": {}
      },
      "source": [
        "def apply_by_to_date(text):\n",
        "  from datetime import datetime\n",
        "  a = datetime.strptime(text, '%d %b %Y')\n",
        "  return a"
      ],
      "execution_count": 0,
      "outputs": []
    },
    {
      "cell_type": "code",
      "metadata": {
        "id": "ZM6BoLanj1fI",
        "colab_type": "code",
        "colab": {}
      },
      "source": [
        "def get_internshala_internships(url, n = 0):\n",
        "  import numpy as np\n",
        "  import pandas as pd\n",
        "  import requests \n",
        "  from bs4 import BeautifulSoup\n",
        "  all_items = []\n",
        "  no_internship_text = \":( Sorry, We couldn't find internships matching your requirements.\"\n",
        "  while True:\n",
        "    print(f'n is {n}')\n",
        "    if n:\n",
        "      url = url + f'/page-{n}'\n",
        "    try:\n",
        "      html = requests.get(url)\n",
        "      soup = BeautifulSoup(html.content, 'lxml')\n",
        "      all_internship = soup.find_all('div', class_ = 'individual_internship')\n",
        "      text = all_internship[0].find('h4').text\n",
        "      if text == no_internship_text:\n",
        "        print(no_internship_text)\n",
        "        break\n",
        "      l = len(all_internship)\n",
        "      n2 = 0\n",
        "      for i in all_internship:\n",
        "        try:\n",
        "          id = i.get('internshipid')\n",
        "          location = i.find_all('a', class_ = 'location_link')[0].text\n",
        "          link = 'https://internshala.com/' + i.find_all('a')[0].get('href')\n",
        "          td = i.find_all('table')[0].find_all('td')\n",
        "          start_date = td[0].text\n",
        "          duration = td[1].text\n",
        "          stipend = td[2].text\n",
        "          posted_on = td[3].text\n",
        "          apply_by = td[4].text\n",
        "          items = [id, location, start_date, duration, stipend, posted_on, apply_by]\n",
        "          items = list(map(clean_text, items))\n",
        "          items.insert(2, link)\n",
        "          del id, location, link, start_date, duration, stipend, posted_on, apply_by\n",
        "          all_items.append(items)\n",
        "          n2 += 1\n",
        "        except:\n",
        "          continue\n",
        "      n += 1\n",
        "    except Exception as e:\n",
        "      print(f'{e.__class__.__name__}:--- {e.args[0]}')\n",
        "      break\n",
        "  if len(all_items) == 0:\n",
        "    return no_internship_text\n",
        "  df = pd.DataFrame(np.array(all_items), columns = ['id', 'location', 'link', 'start_date', 'duration', 'stipend', 'posted_on', 'apply_by'])\n",
        "  df.drop_duplicates(inplace = True)\n",
        "  df['stipend'] = df.stipend.apply(clean_stipend)\n",
        "  df['apply_by'] = df['apply_by'].apply(clean_apply_by)\n",
        "  df['apply_by'] = df['apply_by'].apply(apply_by_to_date)\n",
        "  df.dropna(inplace = True)\n",
        "  return df"
      ],
      "execution_count": 0,
      "outputs": []
    },
    {
      "cell_type": "code",
      "metadata": {
        "id": "rQ6Hw4gDXvUr",
        "colab_type": "code",
        "colab": {}
      },
      "source": [
        "url = 'https://internshala.com/internships/work-from-home-data%20science,machine%20learning-jobs'"
      ],
      "execution_count": 0,
      "outputs": []
    },
    {
      "cell_type": "code",
      "metadata": {
        "id": "ZxPKh_2UeuN-",
        "colab_type": "code",
        "outputId": "306820ca-4aa7-467e-b6e4-a7ef4a70f8f6",
        "colab": {
          "base_uri": "https://localhost:8080/",
          "height": 119
        }
      },
      "source": [
        "work_from_home = get_internshala_internships(url)"
      ],
      "execution_count": 9,
      "outputs": [
        {
          "output_type": "stream",
          "text": [
            "n is 0\n",
            "n is 1\n",
            "n is 2\n",
            "n is 3\n",
            "n is 4\n",
            ":( Sorry, We couldn't find internships matching your requirements.\n"
          ],
          "name": "stdout"
        }
      ]
    },
    {
      "cell_type": "code",
      "metadata": {
        "id": "-MBBaLIOj6xr",
        "colab_type": "code",
        "outputId": "4f27111c-635e-4614-ae37-9c293de6507b",
        "colab": {
          "base_uri": "https://localhost:8080/",
          "height": 204
        }
      },
      "source": [
        "work_from_home.head()"
      ],
      "execution_count": 10,
      "outputs": [
        {
          "output_type": "execute_result",
          "data": {
            "text/html": [
              "<div>\n",
              "<style scoped>\n",
              "    .dataframe tbody tr th:only-of-type {\n",
              "        vertical-align: middle;\n",
              "    }\n",
              "\n",
              "    .dataframe tbody tr th {\n",
              "        vertical-align: top;\n",
              "    }\n",
              "\n",
              "    .dataframe thead th {\n",
              "        text-align: right;\n",
              "    }\n",
              "</style>\n",
              "<table border=\"1\" class=\"dataframe\">\n",
              "  <thead>\n",
              "    <tr style=\"text-align: right;\">\n",
              "      <th></th>\n",
              "      <th>id</th>\n",
              "      <th>location</th>\n",
              "      <th>link</th>\n",
              "      <th>start_date</th>\n",
              "      <th>duration</th>\n",
              "      <th>stipend</th>\n",
              "      <th>posted_on</th>\n",
              "      <th>apply_by</th>\n",
              "    </tr>\n",
              "  </thead>\n",
              "  <tbody>\n",
              "    <tr>\n",
              "      <th>0</th>\n",
              "      <td>886861</td>\n",
              "      <td>Work From Home</td>\n",
              "      <td>https://internshala.com//internship/details/de...</td>\n",
              "      <td>Immediately</td>\n",
              "      <td>6 Months</td>\n",
              "      <td>2000.0</td>\n",
              "      <td>26 Mar'20</td>\n",
              "      <td>2020-04-23</td>\n",
              "    </tr>\n",
              "    <tr>\n",
              "      <th>1</th>\n",
              "      <td>884133</td>\n",
              "      <td>Work From Home</td>\n",
              "      <td>https://internshala.com//internship/detail/dat...</td>\n",
              "      <td>20 Apr - 30 Apr'20</td>\n",
              "      <td>4 Months</td>\n",
              "      <td>1000.0</td>\n",
              "      <td>20 Mar'20</td>\n",
              "      <td>2020-04-17</td>\n",
              "    </tr>\n",
              "    <tr>\n",
              "      <th>2</th>\n",
              "      <td>896796</td>\n",
              "      <td>Work From Home</td>\n",
              "      <td>https://internshala.com//internship/detail/mac...</td>\n",
              "      <td>Immediately</td>\n",
              "      <td>3 Months</td>\n",
              "      <td>3000.0</td>\n",
              "      <td>17 Apr'20</td>\n",
              "      <td>2020-05-15</td>\n",
              "    </tr>\n",
              "    <tr>\n",
              "      <th>3</th>\n",
              "      <td>896591</td>\n",
              "      <td>Work From Home</td>\n",
              "      <td>https://internshala.com//internship/detail/pyt...</td>\n",
              "      <td>Immediately</td>\n",
              "      <td>3 Months</td>\n",
              "      <td>10000.0</td>\n",
              "      <td>17 Apr'20</td>\n",
              "      <td>2020-05-15</td>\n",
              "    </tr>\n",
              "    <tr>\n",
              "      <th>4</th>\n",
              "      <td>895918</td>\n",
              "      <td>Work From Home</td>\n",
              "      <td>https://internshala.com//internship/detail/dat...</td>\n",
              "      <td>Immediately</td>\n",
              "      <td>3 Months</td>\n",
              "      <td>9000.0</td>\n",
              "      <td>16 Apr'20</td>\n",
              "      <td>2020-05-14</td>\n",
              "    </tr>\n",
              "  </tbody>\n",
              "</table>\n",
              "</div>"
            ],
            "text/plain": [
              "       id        location  ...  posted_on   apply_by\n",
              "0  886861  Work From Home  ...  26 Mar'20 2020-04-23\n",
              "1  884133  Work From Home  ...  20 Mar'20 2020-04-17\n",
              "2  896796  Work From Home  ...  17 Apr'20 2020-05-15\n",
              "3  896591  Work From Home  ...  17 Apr'20 2020-05-15\n",
              "4  895918  Work From Home  ...  16 Apr'20 2020-05-14\n",
              "\n",
              "[5 rows x 8 columns]"
            ]
          },
          "metadata": {
            "tags": []
          },
          "execution_count": 10
        }
      ]
    },
    {
      "cell_type": "code",
      "metadata": {
        "id": "kgu_R3REYCSL",
        "colab_type": "code",
        "colab": {
          "base_uri": "https://localhost:8080/",
          "height": 34
        },
        "outputId": "46a0b419-4f0b-4025-e485-6585e79eafe1"
      },
      "source": [
        "type(work_from_home.apply_by.values[0])"
      ],
      "execution_count": 11,
      "outputs": [
        {
          "output_type": "execute_result",
          "data": {
            "text/plain": [
              "numpy.datetime64"
            ]
          },
          "metadata": {
            "tags": []
          },
          "execution_count": 11
        }
      ]
    },
    {
      "cell_type": "code",
      "metadata": {
        "id": "Jy2Nj4Tee5H9",
        "colab_type": "code",
        "outputId": "5eaad34b-b2e6-4d15-d8c7-93619de3c5ff",
        "colab": {
          "base_uri": "https://localhost:8080/",
          "height": 34
        }
      },
      "source": [
        "work_from_home.shape"
      ],
      "execution_count": 12,
      "outputs": [
        {
          "output_type": "execute_result",
          "data": {
            "text/plain": [
              "(83, 8)"
            ]
          },
          "metadata": {
            "tags": []
          },
          "execution_count": 12
        }
      ]
    },
    {
      "cell_type": "code",
      "metadata": {
        "id": "XOqbwWwCtUQj",
        "colab_type": "code",
        "colab": {}
      },
      "source": [
        "work_from_home.sort_values(by = 'apply_by', inplace = True)"
      ],
      "execution_count": 0,
      "outputs": []
    },
    {
      "cell_type": "code",
      "metadata": {
        "id": "V0LPHPk0tY0J",
        "colab_type": "code",
        "outputId": "ff4aa7b2-04ab-44b7-aff2-ffff0a151c81",
        "colab": {
          "base_uri": "https://localhost:8080/",
          "height": 111
        }
      },
      "source": [
        "work_from_home.head(2)"
      ],
      "execution_count": 14,
      "outputs": [
        {
          "output_type": "execute_result",
          "data": {
            "text/html": [
              "<div>\n",
              "<style scoped>\n",
              "    .dataframe tbody tr th:only-of-type {\n",
              "        vertical-align: middle;\n",
              "    }\n",
              "\n",
              "    .dataframe tbody tr th {\n",
              "        vertical-align: top;\n",
              "    }\n",
              "\n",
              "    .dataframe thead th {\n",
              "        text-align: right;\n",
              "    }\n",
              "</style>\n",
              "<table border=\"1\" class=\"dataframe\">\n",
              "  <thead>\n",
              "    <tr style=\"text-align: right;\">\n",
              "      <th></th>\n",
              "      <th>id</th>\n",
              "      <th>location</th>\n",
              "      <th>link</th>\n",
              "      <th>start_date</th>\n",
              "      <th>duration</th>\n",
              "      <th>stipend</th>\n",
              "      <th>posted_on</th>\n",
              "      <th>apply_by</th>\n",
              "    </tr>\n",
              "  </thead>\n",
              "  <tbody>\n",
              "    <tr>\n",
              "      <th>1</th>\n",
              "      <td>884133</td>\n",
              "      <td>Work From Home</td>\n",
              "      <td>https://internshala.com//internship/detail/dat...</td>\n",
              "      <td>20 Apr - 30 Apr'20</td>\n",
              "      <td>4 Months</td>\n",
              "      <td>1000.0</td>\n",
              "      <td>20 Mar'20</td>\n",
              "      <td>2020-04-17</td>\n",
              "    </tr>\n",
              "    <tr>\n",
              "      <th>121</th>\n",
              "      <td>884602</td>\n",
              "      <td>Work From Home</td>\n",
              "      <td>https://internshala.com//internship/detail/act...</td>\n",
              "      <td>Immediately</td>\n",
              "      <td>4 Months</td>\n",
              "      <td>5000.0</td>\n",
              "      <td>20 Mar'20</td>\n",
              "      <td>2020-04-17</td>\n",
              "    </tr>\n",
              "  </tbody>\n",
              "</table>\n",
              "</div>"
            ],
            "text/plain": [
              "         id        location  ...  posted_on   apply_by\n",
              "1    884133  Work From Home  ...  20 Mar'20 2020-04-17\n",
              "121  884602  Work From Home  ...  20 Mar'20 2020-04-17\n",
              "\n",
              "[2 rows x 8 columns]"
            ]
          },
          "metadata": {
            "tags": []
          },
          "execution_count": 14
        }
      ]
    },
    {
      "cell_type": "code",
      "metadata": {
        "id": "oT9ZLVBrtadH",
        "colab_type": "code",
        "outputId": "f54f3d08-f2ec-4143-9ca6-aa5768221f12",
        "colab": {
          "base_uri": "https://localhost:8080/",
          "height": 34
        }
      },
      "source": [
        "useful_data = work_from_home[work_from_home.apply_by <= '2020-04-25']\n",
        "useful_data.shape"
      ],
      "execution_count": 22,
      "outputs": [
        {
          "output_type": "execute_result",
          "data": {
            "text/plain": [
              "(14, 8)"
            ]
          },
          "metadata": {
            "tags": []
          },
          "execution_count": 22
        }
      ]
    },
    {
      "cell_type": "code",
      "metadata": {
        "id": "l26lfMsPtzKe",
        "colab_type": "code",
        "colab": {}
      },
      "source": [
        "#useful_data.sort_values(by = 'stipend', ascending = False, inplace = True)"
      ],
      "execution_count": 0,
      "outputs": []
    },
    {
      "cell_type": "code",
      "metadata": {
        "id": "rUOklWg8t1yd",
        "colab_type": "code",
        "outputId": "2308f12a-c8ed-49e5-9ba4-028133fd9b00",
        "colab": {
          "base_uri": "https://localhost:8080/",
          "height": 483
        }
      },
      "source": [
        "useful_data"
      ],
      "execution_count": 24,
      "outputs": [
        {
          "output_type": "execute_result",
          "data": {
            "text/html": [
              "<div>\n",
              "<style scoped>\n",
              "    .dataframe tbody tr th:only-of-type {\n",
              "        vertical-align: middle;\n",
              "    }\n",
              "\n",
              "    .dataframe tbody tr th {\n",
              "        vertical-align: top;\n",
              "    }\n",
              "\n",
              "    .dataframe thead th {\n",
              "        text-align: right;\n",
              "    }\n",
              "</style>\n",
              "<table border=\"1\" class=\"dataframe\">\n",
              "  <thead>\n",
              "    <tr style=\"text-align: right;\">\n",
              "      <th></th>\n",
              "      <th>id</th>\n",
              "      <th>location</th>\n",
              "      <th>link</th>\n",
              "      <th>start_date</th>\n",
              "      <th>duration</th>\n",
              "      <th>stipend</th>\n",
              "      <th>posted_on</th>\n",
              "      <th>apply_by</th>\n",
              "    </tr>\n",
              "  </thead>\n",
              "  <tbody>\n",
              "    <tr>\n",
              "      <th>1</th>\n",
              "      <td>884133</td>\n",
              "      <td>Work From Home</td>\n",
              "      <td>https://internshala.com//internship/detail/dat...</td>\n",
              "      <td>20 Apr - 30 Apr'20</td>\n",
              "      <td>4 Months</td>\n",
              "      <td>1000.0</td>\n",
              "      <td>20 Mar'20</td>\n",
              "      <td>2020-04-17</td>\n",
              "    </tr>\n",
              "    <tr>\n",
              "      <th>121</th>\n",
              "      <td>884602</td>\n",
              "      <td>Work From Home</td>\n",
              "      <td>https://internshala.com//internship/detail/act...</td>\n",
              "      <td>Immediately</td>\n",
              "      <td>4 Months</td>\n",
              "      <td>5000.0</td>\n",
              "      <td>20 Mar'20</td>\n",
              "      <td>2020-04-17</td>\n",
              "    </tr>\n",
              "    <tr>\n",
              "      <th>122</th>\n",
              "      <td>884098</td>\n",
              "      <td>Work From Home</td>\n",
              "      <td>https://internshala.com//internship/details/de...</td>\n",
              "      <td>Immediately</td>\n",
              "      <td>1 Month</td>\n",
              "      <td>10000.0</td>\n",
              "      <td>20 Mar'20</td>\n",
              "      <td>2020-04-18</td>\n",
              "    </tr>\n",
              "    <tr>\n",
              "      <th>118</th>\n",
              "      <td>884829</td>\n",
              "      <td>Work From Home</td>\n",
              "      <td>https://internshala.com//internship/details/da...</td>\n",
              "      <td>Immediately</td>\n",
              "      <td>3 Months</td>\n",
              "      <td>6000.0</td>\n",
              "      <td>23 Mar'20</td>\n",
              "      <td>2020-04-21</td>\n",
              "    </tr>\n",
              "    <tr>\n",
              "      <th>117</th>\n",
              "      <td>885390</td>\n",
              "      <td>Work From Home</td>\n",
              "      <td>https://internshala.com//internship/details/bl...</td>\n",
              "      <td>Immediately</td>\n",
              "      <td>3 Months</td>\n",
              "      <td>6000.0</td>\n",
              "      <td>23 Mar'20</td>\n",
              "      <td>2020-04-21</td>\n",
              "    </tr>\n",
              "    <tr>\n",
              "      <th>116</th>\n",
              "      <td>885696</td>\n",
              "      <td>Work From Home</td>\n",
              "      <td>https://internshala.com//internship/details/na...</td>\n",
              "      <td>Immediately</td>\n",
              "      <td>2 Months</td>\n",
              "      <td>5000.0</td>\n",
              "      <td>23 Mar'20</td>\n",
              "      <td>2020-04-21</td>\n",
              "    </tr>\n",
              "    <tr>\n",
              "      <th>115</th>\n",
              "      <td>886271</td>\n",
              "      <td>Work From Home</td>\n",
              "      <td>https://internshala.com//internship/details/ma...</td>\n",
              "      <td>Immediately</td>\n",
              "      <td>1 Month</td>\n",
              "      <td>2000.0</td>\n",
              "      <td>24 Mar'20</td>\n",
              "      <td>2020-04-21</td>\n",
              "    </tr>\n",
              "    <tr>\n",
              "      <th>0</th>\n",
              "      <td>886861</td>\n",
              "      <td>Work From Home</td>\n",
              "      <td>https://internshala.com//internship/details/de...</td>\n",
              "      <td>Immediately</td>\n",
              "      <td>6 Months</td>\n",
              "      <td>2000.0</td>\n",
              "      <td>26 Mar'20</td>\n",
              "      <td>2020-04-23</td>\n",
              "    </tr>\n",
              "    <tr>\n",
              "      <th>110</th>\n",
              "      <td>887115</td>\n",
              "      <td>Work From Home</td>\n",
              "      <td>https://internshala.com//internship/details/re...</td>\n",
              "      <td>Immediately</td>\n",
              "      <td>1 Month</td>\n",
              "      <td>5000.0</td>\n",
              "      <td>26 Mar'20</td>\n",
              "      <td>2020-04-23</td>\n",
              "    </tr>\n",
              "    <tr>\n",
              "      <th>113</th>\n",
              "      <td>886292</td>\n",
              "      <td>Work From Home</td>\n",
              "      <td>https://internshala.com//internship/details/da...</td>\n",
              "      <td>Immediately</td>\n",
              "      <td>6 Months</td>\n",
              "      <td>5000.0</td>\n",
              "      <td>25 Mar'20</td>\n",
              "      <td>2020-04-23</td>\n",
              "    </tr>\n",
              "    <tr>\n",
              "      <th>112</th>\n",
              "      <td>881834</td>\n",
              "      <td>Work From Home</td>\n",
              "      <td>https://internshala.com//internship/detail/b2b...</td>\n",
              "      <td>Immediately</td>\n",
              "      <td>3 Months</td>\n",
              "      <td>5000.0</td>\n",
              "      <td>25 Mar'20</td>\n",
              "      <td>2020-04-23</td>\n",
              "    </tr>\n",
              "    <tr>\n",
              "      <th>111</th>\n",
              "      <td>886899</td>\n",
              "      <td>Work From Home</td>\n",
              "      <td>https://internshala.com//internship/details/ma...</td>\n",
              "      <td>Immediately</td>\n",
              "      <td>3 Months</td>\n",
              "      <td>8000.0</td>\n",
              "      <td>26 Mar'20</td>\n",
              "      <td>2020-04-24</td>\n",
              "    </tr>\n",
              "    <tr>\n",
              "      <th>108</th>\n",
              "      <td>887398</td>\n",
              "      <td>Work From Home</td>\n",
              "      <td>https://internshala.com//internship/details/en...</td>\n",
              "      <td>Immediately</td>\n",
              "      <td>3 Months</td>\n",
              "      <td>5000.0</td>\n",
              "      <td>27 Mar'20</td>\n",
              "      <td>2020-04-24</td>\n",
              "    </tr>\n",
              "    <tr>\n",
              "      <th>106</th>\n",
              "      <td>887601</td>\n",
              "      <td>Work From Home</td>\n",
              "      <td>https://internshala.com//internship/details/ma...</td>\n",
              "      <td>Immediately</td>\n",
              "      <td>1 Month</td>\n",
              "      <td>5000.0</td>\n",
              "      <td>28 Mar'20</td>\n",
              "      <td>2020-04-25</td>\n",
              "    </tr>\n",
              "  </tbody>\n",
              "</table>\n",
              "</div>"
            ],
            "text/plain": [
              "         id        location  ...  posted_on   apply_by\n",
              "1    884133  Work From Home  ...  20 Mar'20 2020-04-17\n",
              "121  884602  Work From Home  ...  20 Mar'20 2020-04-17\n",
              "122  884098  Work From Home  ...  20 Mar'20 2020-04-18\n",
              "118  884829  Work From Home  ...  23 Mar'20 2020-04-21\n",
              "117  885390  Work From Home  ...  23 Mar'20 2020-04-21\n",
              "116  885696  Work From Home  ...  23 Mar'20 2020-04-21\n",
              "115  886271  Work From Home  ...  24 Mar'20 2020-04-21\n",
              "0    886861  Work From Home  ...  26 Mar'20 2020-04-23\n",
              "110  887115  Work From Home  ...  26 Mar'20 2020-04-23\n",
              "113  886292  Work From Home  ...  25 Mar'20 2020-04-23\n",
              "112  881834  Work From Home  ...  25 Mar'20 2020-04-23\n",
              "111  886899  Work From Home  ...  26 Mar'20 2020-04-24\n",
              "108  887398  Work From Home  ...  27 Mar'20 2020-04-24\n",
              "106  887601  Work From Home  ...  28 Mar'20 2020-04-25\n",
              "\n",
              "[14 rows x 8 columns]"
            ]
          },
          "metadata": {
            "tags": []
          },
          "execution_count": 24
        }
      ]
    },
    {
      "cell_type": "code",
      "metadata": {
        "id": "zjqTqvk0uQwN",
        "colab_type": "code",
        "outputId": "09bed582-0259-467d-864f-2080dd51ca65",
        "colab": {
          "base_uri": "https://localhost:8080/",
          "height": 493
        }
      },
      "source": [
        "print(useful_data[['link', 'duration', 'stipend', 'apply_by']].values)"
      ],
      "execution_count": 25,
      "outputs": [
        {
          "output_type": "stream",
          "text": [
            "[['https://internshala.com//internship/detail/data-analytics-work-from-home-job-internship-at-motilal-oswal1584672410'\n",
            "  '4 Months' 1000.0 Timestamp('2020-04-17 00:00:00')]\n",
            " ['https://internshala.com//internship/detail/actuary-or-actuarial-intern-work-from-home-job-internship-at-get-ria1584702655'\n",
            "  '4 Months' 5000.0 Timestamp('2020-04-17 00:00:00')]\n",
            " ['https://internshala.com//internship/details/deep-learning-work-from-home-job-internship-at-medi-caps-university1584671179'\n",
            "  '1 Month' 10000.0 Timestamp('2020-04-18 00:00:00')]\n",
            " ['https://internshala.com//internship/details/data-science-content-development-work-from-home-job-internship-at-dphi1584722417'\n",
            "  '3 Months' 6000.0 Timestamp('2020-04-21 00:00:00')]\n",
            " ['https://internshala.com//internship/details/blockchain-analytics-work-from-home-job-internship-at-buyucoin1584951851'\n",
            "  '3 Months' 6000.0 Timestamp('2020-04-21 00:00:00')]\n",
            " ['https://internshala.com//internship/details/natural-language-processing-work-from-home-job-internship-at-arihant-patawari1584966791'\n",
            "  '2 Months' 5000.0 Timestamp('2020-04-21 00:00:00')]\n",
            " ['https://internshala.com//internship/details/machine-learning-work-from-home-job-internship-at-uniconverge-technologies-private-limited1585049040'\n",
            "  '1 Month' 2000.0 Timestamp('2020-04-21 00:00:00')]\n",
            " ['https://internshala.com//internship/details/deep-learning-work-from-home-job-internship-at-iit-bombay1585177536'\n",
            "  '6 Months' 2000.0 Timestamp('2020-04-23 00:00:00')]\n",
            " ['https://internshala.com//internship/details/research-analytics-work-from-home-job-internship-at-gooffer-hyperlocal-private-limited1585219089'\n",
            "  '1 Month' 5000.0 Timestamp('2020-04-23 00:00:00')]\n",
            " ['https://internshala.com//internship/details/data-analytics-work-from-home-job-internship-at-skillangels1585050656'\n",
            "  '6 Months' 5000.0 Timestamp('2020-04-23 00:00:00')]\n",
            " ['https://internshala.com//internship/detail/b2b-alliance-analytics-work-from-home-job-internship-at-shootmein1585118390'\n",
            "  '3 Months' 5000.0 Timestamp('2020-04-23 00:00:00')]\n",
            " ['https://internshala.com//internship/details/machine-learning-work-from-home-job-internship-at-sjtech-solutions1585197044'\n",
            "  '3 Months' 8000.0 Timestamp('2020-04-24 00:00:00')]\n",
            " ['https://internshala.com//internship/details/environment-management-analytics-work-from-home-job-internship-at-frontlobe-insights1585312126'\n",
            "  '3 Months' 5000.0 Timestamp('2020-04-24 00:00:00')]\n",
            " ['https://internshala.com//internship/details/machine-learning-computer-vision-work-from-home-job-internship-at-nion-technologies1585357914'\n",
            "  '1 Month' 5000.0 Timestamp('2020-04-25 00:00:00')]]\n"
          ],
          "name": "stdout"
        }
      ]
    },
    {
      "cell_type": "markdown",
      "metadata": {
        "id": "owbAGKe6uA5j",
        "colab_type": "text"
      },
      "source": [
        ""
      ]
    }
  ]
}