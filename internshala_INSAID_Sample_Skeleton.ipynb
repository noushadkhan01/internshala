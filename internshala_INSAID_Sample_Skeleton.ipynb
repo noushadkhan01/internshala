{
  "nbformat": 4,
  "nbformat_minor": 0,
  "metadata": {
    "kernelspec": {
      "name": "python3",
      "display_name": "Python 3"
    },
    "language_info": {
      "codemirror_mode": {
        "name": "ipython",
        "version": 3
      },
      "file_extension": ".py",
      "mimetype": "text/x-python",
      "name": "python",
      "nbconvert_exporter": "python",
      "pygments_lexer": "ipython3",
      "version": "3.7.2"
    },
    "colab": {
      "name": "internshala INSAID Sample_Skeleton.ipynb",
      "provenance": [],
      "collapsed_sections": [],
      "include_colab_link": true
    },
    "accelerator": "GPU"
  },
  "cells": [
    {
      "cell_type": "markdown",
      "metadata": {
        "id": "view-in-github",
        "colab_type": "text"
      },
      "source": [
        "<a href=\"https://colab.research.google.com/github/noushadkhan01/internshala/blob/master/internshala_INSAID_Sample_Skeleton.ipynb\" target=\"_parent\"><img src=\"https://colab.research.google.com/assets/colab-badge.svg\" alt=\"Open In Colab\"/></a>"
      ]
    },
    {
      "cell_type": "markdown",
      "metadata": {
        "id": "3Jo1cIMr3IrI",
        "colab_type": "text"
      },
      "source": [
        "# INSAID Hiring Exercise"
      ]
    },
    {
      "cell_type": "markdown",
      "metadata": {
        "id": "kA8UOs4l3IrR",
        "colab_type": "text"
      },
      "source": [
        "## Important: Kindly go through the instructions mentioned below.\n",
        "\n",
        "- The Sheet is structured in **4 steps**:\n",
        "    1. Understanding data and manipulation\n",
        "    2. Data visualization\n",
        "    3. Implementing Machine Learning models(Note: It should be more than 1 algorithm)\n",
        "    4. Model Evaluation and concluding with the best of the model.\n",
        "    \n",
        "    \n",
        "    \n",
        "\n",
        "- Try to break the codes in the **simplest form** and use number of code block with **proper comments** to them\n",
        "- We are providing **h** different dataset to choose from(Note: You need to select any one of the dataset from this sample sheet only)\n",
        "- The **interview calls** will be made solely based on how good you apply the **concepts**.\n",
        "- Good Luck! Happy Coding!"
      ]
    },
    {
      "cell_type": "markdown",
      "metadata": {
        "id": "ij645bWA3IrU",
        "colab_type": "text"
      },
      "source": [
        "# Importing the data"
      ]
    },
    {
      "cell_type": "code",
      "metadata": {
        "id": "9bEeJuFM3Rqv",
        "colab_type": "code",
        "colab": {}
      },
      "source": [
        "import pandas as pd\n",
        "import numpy as np\n",
        "import seaborn as sns\n",
        "import matplotlib.pyplot as plt\n",
        "%matplotlib inline"
      ],
      "execution_count": 0,
      "outputs": []
    },
    {
      "cell_type": "code",
      "metadata": {
        "id": "iBGtsuzx3IrX",
        "colab_type": "code",
        "outputId": "6bb45d37-90fd-4561-9509-742db55f2d75",
        "colab": {
          "base_uri": "https://localhost:8080/",
          "height": 309
        }
      },
      "source": [
        "# use these links to do so:\n",
        "df = pd.read_csv('https://bit.ly/2Qq259J')\n",
        "df.head()"
      ],
      "execution_count": 2,
      "outputs": [
        {
          "output_type": "execute_result",
          "data": {
            "text/html": [
              "<div>\n",
              "<style scoped>\n",
              "    .dataframe tbody tr th:only-of-type {\n",
              "        vertical-align: middle;\n",
              "    }\n",
              "\n",
              "    .dataframe tbody tr th {\n",
              "        vertical-align: top;\n",
              "    }\n",
              "\n",
              "    .dataframe thead th {\n",
              "        text-align: right;\n",
              "    }\n",
              "</style>\n",
              "<table border=\"1\" class=\"dataframe\">\n",
              "  <thead>\n",
              "    <tr style=\"text-align: right;\">\n",
              "      <th></th>\n",
              "      <th>customerID</th>\n",
              "      <th>gender</th>\n",
              "      <th>SeniorCitizen</th>\n",
              "      <th>Partner</th>\n",
              "      <th>Dependents</th>\n",
              "      <th>tenure</th>\n",
              "      <th>PhoneService</th>\n",
              "      <th>MultipleLines</th>\n",
              "      <th>InternetService</th>\n",
              "      <th>OnlineSecurity</th>\n",
              "      <th>OnlineBackup</th>\n",
              "      <th>DeviceProtection</th>\n",
              "      <th>TechSupport</th>\n",
              "      <th>StreamingTV</th>\n",
              "      <th>StreamingMovies</th>\n",
              "      <th>Contract</th>\n",
              "      <th>PaperlessBilling</th>\n",
              "      <th>PaymentMethod</th>\n",
              "      <th>MonthlyCharges</th>\n",
              "      <th>TotalCharges</th>\n",
              "      <th>Churn</th>\n",
              "    </tr>\n",
              "  </thead>\n",
              "  <tbody>\n",
              "    <tr>\n",
              "      <th>0</th>\n",
              "      <td>7590-VHVEG</td>\n",
              "      <td>Female</td>\n",
              "      <td>0</td>\n",
              "      <td>Yes</td>\n",
              "      <td>No</td>\n",
              "      <td>1</td>\n",
              "      <td>No</td>\n",
              "      <td>No phone service</td>\n",
              "      <td>DSL</td>\n",
              "      <td>No</td>\n",
              "      <td>Yes</td>\n",
              "      <td>No</td>\n",
              "      <td>No</td>\n",
              "      <td>No</td>\n",
              "      <td>No</td>\n",
              "      <td>Month-to-month</td>\n",
              "      <td>Yes</td>\n",
              "      <td>Electronic check</td>\n",
              "      <td>29.85</td>\n",
              "      <td>29.85</td>\n",
              "      <td>No</td>\n",
              "    </tr>\n",
              "    <tr>\n",
              "      <th>1</th>\n",
              "      <td>5575-GNVDE</td>\n",
              "      <td>Male</td>\n",
              "      <td>0</td>\n",
              "      <td>No</td>\n",
              "      <td>No</td>\n",
              "      <td>34</td>\n",
              "      <td>Yes</td>\n",
              "      <td>No</td>\n",
              "      <td>DSL</td>\n",
              "      <td>Yes</td>\n",
              "      <td>No</td>\n",
              "      <td>Yes</td>\n",
              "      <td>No</td>\n",
              "      <td>No</td>\n",
              "      <td>No</td>\n",
              "      <td>One year</td>\n",
              "      <td>No</td>\n",
              "      <td>Mailed check</td>\n",
              "      <td>56.95</td>\n",
              "      <td>1889.5</td>\n",
              "      <td>No</td>\n",
              "    </tr>\n",
              "    <tr>\n",
              "      <th>2</th>\n",
              "      <td>3668-QPYBK</td>\n",
              "      <td>Male</td>\n",
              "      <td>0</td>\n",
              "      <td>No</td>\n",
              "      <td>No</td>\n",
              "      <td>2</td>\n",
              "      <td>Yes</td>\n",
              "      <td>No</td>\n",
              "      <td>DSL</td>\n",
              "      <td>Yes</td>\n",
              "      <td>Yes</td>\n",
              "      <td>No</td>\n",
              "      <td>No</td>\n",
              "      <td>No</td>\n",
              "      <td>No</td>\n",
              "      <td>Month-to-month</td>\n",
              "      <td>Yes</td>\n",
              "      <td>Mailed check</td>\n",
              "      <td>53.85</td>\n",
              "      <td>108.15</td>\n",
              "      <td>Yes</td>\n",
              "    </tr>\n",
              "    <tr>\n",
              "      <th>3</th>\n",
              "      <td>7795-CFOCW</td>\n",
              "      <td>Male</td>\n",
              "      <td>0</td>\n",
              "      <td>No</td>\n",
              "      <td>No</td>\n",
              "      <td>45</td>\n",
              "      <td>No</td>\n",
              "      <td>No phone service</td>\n",
              "      <td>DSL</td>\n",
              "      <td>Yes</td>\n",
              "      <td>No</td>\n",
              "      <td>Yes</td>\n",
              "      <td>Yes</td>\n",
              "      <td>No</td>\n",
              "      <td>No</td>\n",
              "      <td>One year</td>\n",
              "      <td>No</td>\n",
              "      <td>Bank transfer (automatic)</td>\n",
              "      <td>42.30</td>\n",
              "      <td>1840.75</td>\n",
              "      <td>No</td>\n",
              "    </tr>\n",
              "    <tr>\n",
              "      <th>4</th>\n",
              "      <td>9237-HQITU</td>\n",
              "      <td>Female</td>\n",
              "      <td>0</td>\n",
              "      <td>No</td>\n",
              "      <td>No</td>\n",
              "      <td>2</td>\n",
              "      <td>Yes</td>\n",
              "      <td>No</td>\n",
              "      <td>Fiber optic</td>\n",
              "      <td>No</td>\n",
              "      <td>No</td>\n",
              "      <td>No</td>\n",
              "      <td>No</td>\n",
              "      <td>No</td>\n",
              "      <td>No</td>\n",
              "      <td>Month-to-month</td>\n",
              "      <td>Yes</td>\n",
              "      <td>Electronic check</td>\n",
              "      <td>70.70</td>\n",
              "      <td>151.65</td>\n",
              "      <td>Yes</td>\n",
              "    </tr>\n",
              "  </tbody>\n",
              "</table>\n",
              "</div>"
            ],
            "text/plain": [
              "   customerID  gender  SeniorCitizen  ... MonthlyCharges TotalCharges  Churn\n",
              "0  7590-VHVEG  Female              0  ...          29.85        29.85     No\n",
              "1  5575-GNVDE    Male              0  ...          56.95       1889.5     No\n",
              "2  3668-QPYBK    Male              0  ...          53.85       108.15    Yes\n",
              "3  7795-CFOCW    Male              0  ...          42.30      1840.75     No\n",
              "4  9237-HQITU  Female              0  ...          70.70       151.65    Yes\n",
              "\n",
              "[5 rows x 21 columns]"
            ]
          },
          "metadata": {
            "tags": []
          },
          "execution_count": 2
        }
      ]
    },
    {
      "cell_type": "markdown",
      "metadata": {
        "id": "4NLyxInA3Ire",
        "colab_type": "text"
      },
      "source": [
        "# Understanding the data"
      ]
    },
    {
      "cell_type": "code",
      "metadata": {
        "id": "zJrwnTAb3Irg",
        "colab_type": "code",
        "outputId": "af430eeb-7015-4710-cc6d-0c9410af8d45",
        "colab": {
          "base_uri": "https://localhost:8080/",
          "height": 297
        }
      },
      "source": [
        "df.describe()"
      ],
      "execution_count": 3,
      "outputs": [
        {
          "output_type": "execute_result",
          "data": {
            "text/html": [
              "<div>\n",
              "<style scoped>\n",
              "    .dataframe tbody tr th:only-of-type {\n",
              "        vertical-align: middle;\n",
              "    }\n",
              "\n",
              "    .dataframe tbody tr th {\n",
              "        vertical-align: top;\n",
              "    }\n",
              "\n",
              "    .dataframe thead th {\n",
              "        text-align: right;\n",
              "    }\n",
              "</style>\n",
              "<table border=\"1\" class=\"dataframe\">\n",
              "  <thead>\n",
              "    <tr style=\"text-align: right;\">\n",
              "      <th></th>\n",
              "      <th>SeniorCitizen</th>\n",
              "      <th>tenure</th>\n",
              "      <th>MonthlyCharges</th>\n",
              "    </tr>\n",
              "  </thead>\n",
              "  <tbody>\n",
              "    <tr>\n",
              "      <th>count</th>\n",
              "      <td>7043.000000</td>\n",
              "      <td>7043.000000</td>\n",
              "      <td>7043.000000</td>\n",
              "    </tr>\n",
              "    <tr>\n",
              "      <th>mean</th>\n",
              "      <td>0.162147</td>\n",
              "      <td>32.371149</td>\n",
              "      <td>64.761692</td>\n",
              "    </tr>\n",
              "    <tr>\n",
              "      <th>std</th>\n",
              "      <td>0.368612</td>\n",
              "      <td>24.559481</td>\n",
              "      <td>30.090047</td>\n",
              "    </tr>\n",
              "    <tr>\n",
              "      <th>min</th>\n",
              "      <td>0.000000</td>\n",
              "      <td>0.000000</td>\n",
              "      <td>18.250000</td>\n",
              "    </tr>\n",
              "    <tr>\n",
              "      <th>25%</th>\n",
              "      <td>0.000000</td>\n",
              "      <td>9.000000</td>\n",
              "      <td>35.500000</td>\n",
              "    </tr>\n",
              "    <tr>\n",
              "      <th>50%</th>\n",
              "      <td>0.000000</td>\n",
              "      <td>29.000000</td>\n",
              "      <td>70.350000</td>\n",
              "    </tr>\n",
              "    <tr>\n",
              "      <th>75%</th>\n",
              "      <td>0.000000</td>\n",
              "      <td>55.000000</td>\n",
              "      <td>89.850000</td>\n",
              "    </tr>\n",
              "    <tr>\n",
              "      <th>max</th>\n",
              "      <td>1.000000</td>\n",
              "      <td>72.000000</td>\n",
              "      <td>118.750000</td>\n",
              "    </tr>\n",
              "  </tbody>\n",
              "</table>\n",
              "</div>"
            ],
            "text/plain": [
              "       SeniorCitizen       tenure  MonthlyCharges\n",
              "count    7043.000000  7043.000000     7043.000000\n",
              "mean        0.162147    32.371149       64.761692\n",
              "std         0.368612    24.559481       30.090047\n",
              "min         0.000000     0.000000       18.250000\n",
              "25%         0.000000     9.000000       35.500000\n",
              "50%         0.000000    29.000000       70.350000\n",
              "75%         0.000000    55.000000       89.850000\n",
              "max         1.000000    72.000000      118.750000"
            ]
          },
          "metadata": {
            "tags": []
          },
          "execution_count": 3
        }
      ]
    },
    {
      "cell_type": "markdown",
      "metadata": {
        "id": "2N8Qw326R6B1",
        "colab_type": "text"
      },
      "source": [
        "### understanding data using pandas profile report"
      ]
    },
    {
      "cell_type": "code",
      "metadata": {
        "id": "RuNtsJCGPnIU",
        "colab_type": "code",
        "colab": {}
      },
      "source": [
        "from pandas_profiling import ProfileReport"
      ],
      "execution_count": 0,
      "outputs": []
    },
    {
      "cell_type": "code",
      "metadata": {
        "id": "4KCmK0zCPyiH",
        "colab_type": "code",
        "outputId": "8934d6e1-e065-4ccc-b494-62f8fc55fa78",
        "colab": {
          "base_uri": "https://localhost:8080/",
          "height": 71
        }
      },
      "source": [
        "html = ProfileReport(df)"
      ],
      "execution_count": 5,
      "outputs": [
        {
          "output_type": "stream",
          "text": [
            "/usr/local/lib/python3.6/dist-packages/pandas_profiling/describe.py:392: FutureWarning: The join_axes-keyword is deprecated. Use .reindex or .reindex_like on the result to achieve the same functionality.\n",
            "  variable_stats = pd.concat(ldesc, join_axes=pd.Index([names]), axis=1)\n"
          ],
          "name": "stderr"
        }
      ]
    },
    {
      "cell_type": "code",
      "metadata": {
        "id": "ySNytWQiQGeL",
        "colab_type": "code",
        "colab": {}
      },
      "source": [
        "html = html.to_file('profile_report.html')"
      ],
      "execution_count": 0,
      "outputs": []
    },
    {
      "cell_type": "markdown",
      "metadata": {
        "id": "Wx-YzvMvRERK",
        "colab_type": "text"
      },
      "source": [
        "from google.colab import files\n",
        "\n",
        "files.download('profile_report.html')"
      ]
    },
    {
      "cell_type": "markdown",
      "metadata": {
        "id": "4q4sgzPFSChk",
        "colab_type": "text"
      },
      "source": [
        "[data set profile report](https://datascienceprojects01.blogspot.com/2020/03/internshala-project-profile-report.html)"
      ]
    },
    {
      "cell_type": "markdown",
      "metadata": {
        "id": "Y3b3k1eaN5mB",
        "colab_type": "text"
      },
      "source": [
        "##check for null values"
      ]
    },
    {
      "cell_type": "code",
      "metadata": {
        "id": "dak6w_X_3Irk",
        "colab_type": "code",
        "outputId": "ad1bef5c-1533-41f2-9127-a6f22cc07638",
        "colab": {
          "base_uri": "https://localhost:8080/",
          "height": 85
        }
      },
      "source": [
        "df.isnull().sum().sort_values(ascending = False)[:3]"
      ],
      "execution_count": 7,
      "outputs": [
        {
          "output_type": "execute_result",
          "data": {
            "text/plain": [
              "Churn             0\n",
              "OnlineSecurity    0\n",
              "gender            0\n",
              "dtype: int64"
            ]
          },
          "metadata": {
            "tags": []
          },
          "execution_count": 7
        }
      ]
    },
    {
      "cell_type": "markdown",
      "metadata": {
        "id": "9M6-0b693Irp",
        "colab_type": "text"
      },
      "source": [
        "**^As we can see there is no null columns in our dataset**"
      ]
    },
    {
      "cell_type": "markdown",
      "metadata": {
        "id": "QEMG-lBe3IsA",
        "colab_type": "text"
      },
      "source": [
        "# Data Manipulation"
      ]
    },
    {
      "cell_type": "code",
      "metadata": {
        "id": "DcNIG89p3IsC",
        "colab_type": "code",
        "outputId": "be8be2f6-b918-489e-a5f8-acb85cf941b3",
        "colab": {
          "base_uri": "https://localhost:8080/",
          "height": 165
        }
      },
      "source": [
        "categorical_data = df.select_dtypes(include = 'object')\n",
        "categorical_data.head(2)"
      ],
      "execution_count": 8,
      "outputs": [
        {
          "output_type": "execute_result",
          "data": {
            "text/html": [
              "<div>\n",
              "<style scoped>\n",
              "    .dataframe tbody tr th:only-of-type {\n",
              "        vertical-align: middle;\n",
              "    }\n",
              "\n",
              "    .dataframe tbody tr th {\n",
              "        vertical-align: top;\n",
              "    }\n",
              "\n",
              "    .dataframe thead th {\n",
              "        text-align: right;\n",
              "    }\n",
              "</style>\n",
              "<table border=\"1\" class=\"dataframe\">\n",
              "  <thead>\n",
              "    <tr style=\"text-align: right;\">\n",
              "      <th></th>\n",
              "      <th>customerID</th>\n",
              "      <th>gender</th>\n",
              "      <th>Partner</th>\n",
              "      <th>Dependents</th>\n",
              "      <th>PhoneService</th>\n",
              "      <th>MultipleLines</th>\n",
              "      <th>InternetService</th>\n",
              "      <th>OnlineSecurity</th>\n",
              "      <th>OnlineBackup</th>\n",
              "      <th>DeviceProtection</th>\n",
              "      <th>TechSupport</th>\n",
              "      <th>StreamingTV</th>\n",
              "      <th>StreamingMovies</th>\n",
              "      <th>Contract</th>\n",
              "      <th>PaperlessBilling</th>\n",
              "      <th>PaymentMethod</th>\n",
              "      <th>TotalCharges</th>\n",
              "      <th>Churn</th>\n",
              "    </tr>\n",
              "  </thead>\n",
              "  <tbody>\n",
              "    <tr>\n",
              "      <th>0</th>\n",
              "      <td>7590-VHVEG</td>\n",
              "      <td>Female</td>\n",
              "      <td>Yes</td>\n",
              "      <td>No</td>\n",
              "      <td>No</td>\n",
              "      <td>No phone service</td>\n",
              "      <td>DSL</td>\n",
              "      <td>No</td>\n",
              "      <td>Yes</td>\n",
              "      <td>No</td>\n",
              "      <td>No</td>\n",
              "      <td>No</td>\n",
              "      <td>No</td>\n",
              "      <td>Month-to-month</td>\n",
              "      <td>Yes</td>\n",
              "      <td>Electronic check</td>\n",
              "      <td>29.85</td>\n",
              "      <td>No</td>\n",
              "    </tr>\n",
              "    <tr>\n",
              "      <th>1</th>\n",
              "      <td>5575-GNVDE</td>\n",
              "      <td>Male</td>\n",
              "      <td>No</td>\n",
              "      <td>No</td>\n",
              "      <td>Yes</td>\n",
              "      <td>No</td>\n",
              "      <td>DSL</td>\n",
              "      <td>Yes</td>\n",
              "      <td>No</td>\n",
              "      <td>Yes</td>\n",
              "      <td>No</td>\n",
              "      <td>No</td>\n",
              "      <td>No</td>\n",
              "      <td>One year</td>\n",
              "      <td>No</td>\n",
              "      <td>Mailed check</td>\n",
              "      <td>1889.5</td>\n",
              "      <td>No</td>\n",
              "    </tr>\n",
              "  </tbody>\n",
              "</table>\n",
              "</div>"
            ],
            "text/plain": [
              "   customerID  gender Partner  ...     PaymentMethod TotalCharges Churn\n",
              "0  7590-VHVEG  Female     Yes  ...  Electronic check        29.85    No\n",
              "1  5575-GNVDE    Male      No  ...      Mailed check       1889.5    No\n",
              "\n",
              "[2 rows x 18 columns]"
            ]
          },
          "metadata": {
            "tags": []
          },
          "execution_count": 8
        }
      ]
    },
    {
      "cell_type": "code",
      "metadata": {
        "id": "BuWXNSNQTX3P",
        "colab_type": "code",
        "outputId": "9b9f35d6-4056-44b9-96c4-1d8afa53136d",
        "colab": {
          "base_uri": "https://localhost:8080/",
          "height": 119
        }
      },
      "source": [
        "categorical_data.columns"
      ],
      "execution_count": 9,
      "outputs": [
        {
          "output_type": "execute_result",
          "data": {
            "text/plain": [
              "Index(['customerID', 'gender', 'Partner', 'Dependents', 'PhoneService',\n",
              "       'MultipleLines', 'InternetService', 'OnlineSecurity', 'OnlineBackup',\n",
              "       'DeviceProtection', 'TechSupport', 'StreamingTV', 'StreamingMovies',\n",
              "       'Contract', 'PaperlessBilling', 'PaymentMethod', 'TotalCharges',\n",
              "       'Churn'],\n",
              "      dtype='object')"
            ]
          },
          "metadata": {
            "tags": []
          },
          "execution_count": 9
        }
      ]
    },
    {
      "cell_type": "code",
      "metadata": {
        "id": "9e63p-IJTdoN",
        "colab_type": "code",
        "outputId": "b5fa7d98-7c1a-4340-88d3-453ecd6601f7",
        "colab": {
          "base_uri": "https://localhost:8080/",
          "height": 34
        }
      },
      "source": [
        "#type of TotalCharges column values\n",
        "type(categorical_data.TotalCharges.values[0])"
      ],
      "execution_count": 10,
      "outputs": [
        {
          "output_type": "execute_result",
          "data": {
            "text/plain": [
              "str"
            ]
          },
          "metadata": {
            "tags": []
          },
          "execution_count": 10
        }
      ]
    },
    {
      "cell_type": "markdown",
      "metadata": {
        "id": "EZCOLSX73IsH",
        "colab_type": "text"
      },
      "source": [
        "^As we can see there is a categorical column name **TotalCharges** which is actually a numerical data so we need to convert it in numeric form"
      ]
    },
    {
      "cell_type": "code",
      "metadata": {
        "id": "qXdS9Zx0kSws",
        "colab_type": "code",
        "colab": {}
      },
      "source": [
        "#get the index which have non numeric TotalCharges values\n",
        "indexes = []\n",
        "for n, i in enumerate(df.TotalCharges):\n",
        "  try:\n",
        "    np.float64(i)\n",
        "  except:\n",
        "    indexes.append(n)"
      ],
      "execution_count": 0,
      "outputs": []
    },
    {
      "cell_type": "code",
      "metadata": {
        "id": "LGF0KHOwlZLw",
        "colab_type": "code",
        "outputId": "e0110b95-7a68-4acd-9955-b18cd697f6eb",
        "colab": {
          "base_uri": "https://localhost:8080/",
          "height": 34
        }
      },
      "source": [
        "indexes"
      ],
      "execution_count": 12,
      "outputs": [
        {
          "output_type": "execute_result",
          "data": {
            "text/plain": [
              "[488, 753, 936, 1082, 1340, 3331, 3826, 4380, 5218, 6670, 6754]"
            ]
          },
          "metadata": {
            "tags": []
          },
          "execution_count": 12
        }
      ]
    },
    {
      "cell_type": "code",
      "metadata": {
        "id": "kPaKEJ-pkjTL",
        "colab_type": "code",
        "outputId": "3f9def41-cda1-48b5-c3be-fb078dcbe175",
        "colab": {
          "base_uri": "https://localhost:8080/",
          "height": 51
        }
      },
      "source": [
        "#values\n",
        "df.loc[indexes].TotalCharges.values"
      ],
      "execution_count": 13,
      "outputs": [
        {
          "output_type": "execute_result",
          "data": {
            "text/plain": [
              "array([' ', ' ', ' ', ' ', ' ', ' ', ' ', ' ', ' ', ' ', ' '],\n",
              "      dtype=object)"
            ]
          },
          "metadata": {
            "tags": []
          },
          "execution_count": 13
        }
      ]
    },
    {
      "cell_type": "code",
      "metadata": {
        "id": "fsPji_ggkDK-",
        "colab_type": "code",
        "colab": {}
      },
      "source": [
        "def convertToFloat(x):\n",
        "  try:\n",
        "    return np.float64(x.strip())\n",
        "  except:\n",
        "    return np.nan"
      ],
      "execution_count": 0,
      "outputs": []
    },
    {
      "cell_type": "code",
      "metadata": {
        "id": "t1A8ktNainLl",
        "colab_type": "code",
        "colab": {}
      },
      "source": [
        "import numpy as np\n",
        "df['TotalCharges'] = df['TotalCharges'].apply(convertToFloat)"
      ],
      "execution_count": 0,
      "outputs": []
    },
    {
      "cell_type": "code",
      "metadata": {
        "id": "vl24ixQx3IsL",
        "colab_type": "code",
        "outputId": "fe897076-9cd1-470c-9077-0d9fb7e750bd",
        "colab": {
          "base_uri": "https://localhost:8080/",
          "height": 165
        }
      },
      "source": [
        "df.head(2)"
      ],
      "execution_count": 16,
      "outputs": [
        {
          "output_type": "execute_result",
          "data": {
            "text/html": [
              "<div>\n",
              "<style scoped>\n",
              "    .dataframe tbody tr th:only-of-type {\n",
              "        vertical-align: middle;\n",
              "    }\n",
              "\n",
              "    .dataframe tbody tr th {\n",
              "        vertical-align: top;\n",
              "    }\n",
              "\n",
              "    .dataframe thead th {\n",
              "        text-align: right;\n",
              "    }\n",
              "</style>\n",
              "<table border=\"1\" class=\"dataframe\">\n",
              "  <thead>\n",
              "    <tr style=\"text-align: right;\">\n",
              "      <th></th>\n",
              "      <th>customerID</th>\n",
              "      <th>gender</th>\n",
              "      <th>SeniorCitizen</th>\n",
              "      <th>Partner</th>\n",
              "      <th>Dependents</th>\n",
              "      <th>tenure</th>\n",
              "      <th>PhoneService</th>\n",
              "      <th>MultipleLines</th>\n",
              "      <th>InternetService</th>\n",
              "      <th>OnlineSecurity</th>\n",
              "      <th>OnlineBackup</th>\n",
              "      <th>DeviceProtection</th>\n",
              "      <th>TechSupport</th>\n",
              "      <th>StreamingTV</th>\n",
              "      <th>StreamingMovies</th>\n",
              "      <th>Contract</th>\n",
              "      <th>PaperlessBilling</th>\n",
              "      <th>PaymentMethod</th>\n",
              "      <th>MonthlyCharges</th>\n",
              "      <th>TotalCharges</th>\n",
              "      <th>Churn</th>\n",
              "    </tr>\n",
              "  </thead>\n",
              "  <tbody>\n",
              "    <tr>\n",
              "      <th>0</th>\n",
              "      <td>7590-VHVEG</td>\n",
              "      <td>Female</td>\n",
              "      <td>0</td>\n",
              "      <td>Yes</td>\n",
              "      <td>No</td>\n",
              "      <td>1</td>\n",
              "      <td>No</td>\n",
              "      <td>No phone service</td>\n",
              "      <td>DSL</td>\n",
              "      <td>No</td>\n",
              "      <td>Yes</td>\n",
              "      <td>No</td>\n",
              "      <td>No</td>\n",
              "      <td>No</td>\n",
              "      <td>No</td>\n",
              "      <td>Month-to-month</td>\n",
              "      <td>Yes</td>\n",
              "      <td>Electronic check</td>\n",
              "      <td>29.85</td>\n",
              "      <td>29.85</td>\n",
              "      <td>No</td>\n",
              "    </tr>\n",
              "    <tr>\n",
              "      <th>1</th>\n",
              "      <td>5575-GNVDE</td>\n",
              "      <td>Male</td>\n",
              "      <td>0</td>\n",
              "      <td>No</td>\n",
              "      <td>No</td>\n",
              "      <td>34</td>\n",
              "      <td>Yes</td>\n",
              "      <td>No</td>\n",
              "      <td>DSL</td>\n",
              "      <td>Yes</td>\n",
              "      <td>No</td>\n",
              "      <td>Yes</td>\n",
              "      <td>No</td>\n",
              "      <td>No</td>\n",
              "      <td>No</td>\n",
              "      <td>One year</td>\n",
              "      <td>No</td>\n",
              "      <td>Mailed check</td>\n",
              "      <td>56.95</td>\n",
              "      <td>1889.50</td>\n",
              "      <td>No</td>\n",
              "    </tr>\n",
              "  </tbody>\n",
              "</table>\n",
              "</div>"
            ],
            "text/plain": [
              "   customerID  gender  SeniorCitizen  ... MonthlyCharges TotalCharges  Churn\n",
              "0  7590-VHVEG  Female              0  ...          29.85        29.85     No\n",
              "1  5575-GNVDE    Male              0  ...          56.95      1889.50     No\n",
              "\n",
              "[2 rows x 21 columns]"
            ]
          },
          "metadata": {
            "tags": []
          },
          "execution_count": 16
        }
      ]
    },
    {
      "cell_type": "code",
      "metadata": {
        "id": "XQiZc1yS3IsP",
        "colab_type": "code",
        "outputId": "a8139bee-24e8-49f9-f744-ea41bebf153f",
        "colab": {
          "base_uri": "https://localhost:8080/",
          "height": 34
        }
      },
      "source": [
        "#now check the type of TotalCharges column values\n",
        "type(df.TotalCharges.values[0])"
      ],
      "execution_count": 17,
      "outputs": [
        {
          "output_type": "execute_result",
          "data": {
            "text/plain": [
              "numpy.float64"
            ]
          },
          "metadata": {
            "tags": []
          },
          "execution_count": 17
        }
      ]
    },
    {
      "cell_type": "code",
      "metadata": {
        "id": "eD_DzC1-akZy",
        "colab_type": "code",
        "outputId": "26e5e27f-4464-46a3-83a7-efe28eca4772",
        "colab": {
          "base_uri": "https://localhost:8080/",
          "height": 85
        }
      },
      "source": [
        "df.isnull().sum().sort_values(ascending = False)[:3]"
      ],
      "execution_count": 18,
      "outputs": [
        {
          "output_type": "execute_result",
          "data": {
            "text/plain": [
              "TotalCharges      11\n",
              "Churn              0\n",
              "OnlineSecurity     0\n",
              "dtype: int64"
            ]
          },
          "metadata": {
            "tags": []
          },
          "execution_count": 18
        }
      ]
    },
    {
      "cell_type": "code",
      "metadata": {
        "id": "QVEJOqAfO1Rd",
        "colab_type": "code",
        "outputId": "993550f8-7d52-44d5-907f-51c99dcadaa8",
        "colab": {
          "base_uri": "https://localhost:8080/",
          "height": 34
        }
      },
      "source": [
        "plt.scatter(x = df.MonthlyCharges, y = df.TotalCharges)"
      ],
      "execution_count": 19,
      "outputs": [
        {
          "output_type": "execute_result",
          "data": {
            "text/plain": [
              "<matplotlib.collections.PathCollection at 0x7f03fc8d44e0>"
            ]
          },
          "metadata": {
            "tags": []
          },
          "execution_count": 19
        }
      ]
    },
    {
      "cell_type": "code",
      "metadata": {
        "id": "HQIQIP2H3Isg",
        "colab_type": "code",
        "outputId": "ad1229b2-0309-44a3-db54-c5c53d2884db",
        "colab": {
          "base_uri": "https://localhost:8080/",
          "height": 111
        }
      },
      "source": [
        "numeric_data = df.select_dtypes(exclude = 'object')\n",
        "numeric_data.head(2)"
      ],
      "execution_count": 20,
      "outputs": [
        {
          "output_type": "execute_result",
          "data": {
            "text/html": [
              "<div>\n",
              "<style scoped>\n",
              "    .dataframe tbody tr th:only-of-type {\n",
              "        vertical-align: middle;\n",
              "    }\n",
              "\n",
              "    .dataframe tbody tr th {\n",
              "        vertical-align: top;\n",
              "    }\n",
              "\n",
              "    .dataframe thead th {\n",
              "        text-align: right;\n",
              "    }\n",
              "</style>\n",
              "<table border=\"1\" class=\"dataframe\">\n",
              "  <thead>\n",
              "    <tr style=\"text-align: right;\">\n",
              "      <th></th>\n",
              "      <th>SeniorCitizen</th>\n",
              "      <th>tenure</th>\n",
              "      <th>MonthlyCharges</th>\n",
              "      <th>TotalCharges</th>\n",
              "    </tr>\n",
              "  </thead>\n",
              "  <tbody>\n",
              "    <tr>\n",
              "      <th>0</th>\n",
              "      <td>0</td>\n",
              "      <td>1</td>\n",
              "      <td>29.85</td>\n",
              "      <td>29.85</td>\n",
              "    </tr>\n",
              "    <tr>\n",
              "      <th>1</th>\n",
              "      <td>0</td>\n",
              "      <td>34</td>\n",
              "      <td>56.95</td>\n",
              "      <td>1889.50</td>\n",
              "    </tr>\n",
              "  </tbody>\n",
              "</table>\n",
              "</div>"
            ],
            "text/plain": [
              "   SeniorCitizen  tenure  MonthlyCharges  TotalCharges\n",
              "0              0       1           29.85         29.85\n",
              "1              0      34           56.95       1889.50"
            ]
          },
          "metadata": {
            "tags": []
          },
          "execution_count": 20
        }
      ]
    },
    {
      "cell_type": "code",
      "metadata": {
        "id": "xAtGWzxxtpnz",
        "colab_type": "code",
        "colab": {}
      },
      "source": [
        "import seaborn as sns\n",
        "%matplotlib inline"
      ],
      "execution_count": 0,
      "outputs": []
    },
    {
      "cell_type": "markdown",
      "metadata": {
        "id": "xB4yg-Ts3Iss",
        "colab_type": "text"
      },
      "source": [
        "##OneHotEncoding"
      ]
    },
    {
      "cell_type": "code",
      "metadata": {
        "id": "hes0Nfa4gK74",
        "colab_type": "code",
        "colab": {}
      },
      "source": [
        "df.drop(['customerID'], axis = 1, inplace = True) #as there is no use of customerID in our machine learning model"
      ],
      "execution_count": 0,
      "outputs": []
    },
    {
      "cell_type": "code",
      "metadata": {
        "id": "Qklmzwduf016",
        "colab_type": "code",
        "outputId": "59e46001-e7fd-4ca5-f754-98528e0dd4d5",
        "colab": {
          "base_uri": "https://localhost:8080/",
          "height": 117
        }
      },
      "source": [
        "categorical_columns = df.select_dtypes(include = 'object') #select categorical columns\n",
        "categorical_columns.head(1)"
      ],
      "execution_count": 23,
      "outputs": [
        {
          "output_type": "execute_result",
          "data": {
            "text/html": [
              "<div>\n",
              "<style scoped>\n",
              "    .dataframe tbody tr th:only-of-type {\n",
              "        vertical-align: middle;\n",
              "    }\n",
              "\n",
              "    .dataframe tbody tr th {\n",
              "        vertical-align: top;\n",
              "    }\n",
              "\n",
              "    .dataframe thead th {\n",
              "        text-align: right;\n",
              "    }\n",
              "</style>\n",
              "<table border=\"1\" class=\"dataframe\">\n",
              "  <thead>\n",
              "    <tr style=\"text-align: right;\">\n",
              "      <th></th>\n",
              "      <th>gender</th>\n",
              "      <th>Partner</th>\n",
              "      <th>Dependents</th>\n",
              "      <th>PhoneService</th>\n",
              "      <th>MultipleLines</th>\n",
              "      <th>InternetService</th>\n",
              "      <th>OnlineSecurity</th>\n",
              "      <th>OnlineBackup</th>\n",
              "      <th>DeviceProtection</th>\n",
              "      <th>TechSupport</th>\n",
              "      <th>StreamingTV</th>\n",
              "      <th>StreamingMovies</th>\n",
              "      <th>Contract</th>\n",
              "      <th>PaperlessBilling</th>\n",
              "      <th>PaymentMethod</th>\n",
              "      <th>Churn</th>\n",
              "    </tr>\n",
              "  </thead>\n",
              "  <tbody>\n",
              "    <tr>\n",
              "      <th>0</th>\n",
              "      <td>Female</td>\n",
              "      <td>Yes</td>\n",
              "      <td>No</td>\n",
              "      <td>No</td>\n",
              "      <td>No phone service</td>\n",
              "      <td>DSL</td>\n",
              "      <td>No</td>\n",
              "      <td>Yes</td>\n",
              "      <td>No</td>\n",
              "      <td>No</td>\n",
              "      <td>No</td>\n",
              "      <td>No</td>\n",
              "      <td>Month-to-month</td>\n",
              "      <td>Yes</td>\n",
              "      <td>Electronic check</td>\n",
              "      <td>No</td>\n",
              "    </tr>\n",
              "  </tbody>\n",
              "</table>\n",
              "</div>"
            ],
            "text/plain": [
              "   gender Partner Dependents  ... PaperlessBilling     PaymentMethod Churn\n",
              "0  Female     Yes         No  ...              Yes  Electronic check    No\n",
              "\n",
              "[1 rows x 16 columns]"
            ]
          },
          "metadata": {
            "tags": []
          },
          "execution_count": 23
        }
      ]
    },
    {
      "cell_type": "code",
      "metadata": {
        "id": "ll0Nf4tag8kD",
        "colab_type": "code",
        "outputId": "6545cce9-9bdf-42e0-df0d-98bf89f9cf99",
        "colab": {
          "base_uri": "https://localhost:8080/",
          "height": 34
        }
      },
      "source": [
        "categorical_columns.shape"
      ],
      "execution_count": 24,
      "outputs": [
        {
          "output_type": "execute_result",
          "data": {
            "text/plain": [
              "(7043, 16)"
            ]
          },
          "metadata": {
            "tags": []
          },
          "execution_count": 24
        }
      ]
    },
    {
      "cell_type": "markdown",
      "metadata": {
        "id": "CoO6Sc0xC9Q3",
        "colab_type": "text"
      },
      "source": [
        "###my methods"
      ]
    },
    {
      "cell_type": "markdown",
      "metadata": {
        "id": "RWFCtancDAi3",
        "colab_type": "text"
      },
      "source": [
        "I have created **my methods** repository on github to follow **DRY** principle\n",
        "\n",
        "those methods are created by myself from scratch kindly visit [this](https://github.com/noushadkhan01/my_methods)"
      ]
    },
    {
      "cell_type": "code",
      "metadata": {
        "id": "td_o2uaNhKCN",
        "colab_type": "code",
        "outputId": "9f41681f-2ee6-4a6b-e5d5-a2878d544d04",
        "colab": {
          "base_uri": "https://localhost:8080/",
          "height": 136
        }
      },
      "source": [
        "!git clone https://github.com/noushadkhan01/my_methods.git"
      ],
      "execution_count": 25,
      "outputs": [
        {
          "output_type": "stream",
          "text": [
            "Cloning into 'my_methods'...\n",
            "remote: Enumerating objects: 89, done.\u001b[K\n",
            "remote: Counting objects: 100% (89/89), done.\u001b[K\n",
            "remote: Compressing objects: 100% (89/89), done.\u001b[K\n",
            "remote: Total 396 (delta 50), reused 0 (delta 0), pack-reused 307\u001b[K\n",
            "Receiving objects: 100% (396/396), 102.44 KiB | 2.28 MiB/s, done.\n",
            "Resolving deltas: 100% (235/235), done.\n"
          ],
          "name": "stdout"
        }
      ]
    },
    {
      "cell_type": "markdown",
      "metadata": {
        "id": "UXxfHC-XPx9l",
        "colab_type": "text"
      },
      "source": [
        "[my methods](https://github.com/noushadkhan01/my_methods)"
      ]
    },
    {
      "cell_type": "code",
      "metadata": {
        "id": "FfgqSo6shQfG",
        "colab_type": "code",
        "outputId": "4929acf5-a9e2-4b96-90b1-4c8005234c1a",
        "colab": {
          "base_uri": "https://localhost:8080/",
          "height": 34
        }
      },
      "source": [
        "%cd my_methods"
      ],
      "execution_count": 26,
      "outputs": [
        {
          "output_type": "stream",
          "text": [
            "/content/my_methods\n"
          ],
          "name": "stdout"
        }
      ]
    },
    {
      "cell_type": "code",
      "metadata": {
        "id": "Wd-voSCQheNa",
        "colab_type": "code",
        "outputId": "52f2053d-cee7-437a-f1c7-71b3605823d5",
        "colab": {
          "base_uri": "https://localhost:8080/",
          "height": 153
        }
      },
      "source": [
        "!ls"
      ],
      "execution_count": 27,
      "outputs": [
        {
          "output_type": "stream",
          "text": [
            "choose_best_classifier.py\t      my_global_variables.py\n",
            "choose_best_regressor.py\t      my_roc_curve.py\n",
            "choose_optimal_number_of_clusters.py  plot_text.py\n",
            "get_cross_validation.py\t\t      print_model_results.py\n",
            "initialize_weights.py\t\t      README.md\n",
            "my_backward_propagation.py\t      sgd_neural_net.py\n",
            "my_cap_curve.py\t\t\t      visualise_classifier_performance.py\n",
            "my_dummy_variable_creator.py\n"
          ],
          "name": "stdout"
        }
      ]
    },
    {
      "cell_type": "code",
      "metadata": {
        "id": "1A8q3lkTaAVa",
        "colab_type": "code",
        "colab": {}
      },
      "source": [
        "from print_model_results import print_model_results"
      ],
      "execution_count": 0,
      "outputs": []
    },
    {
      "cell_type": "code",
      "metadata": {
        "id": "yS155_IL7vxS",
        "colab_type": "code",
        "colab": {}
      },
      "source": [
        "#its a methods to save models\n",
        "import my_global_variables"
      ],
      "execution_count": 0,
      "outputs": []
    },
    {
      "cell_type": "code",
      "metadata": {
        "id": "HaTp0Fi17yo8",
        "colab_type": "code",
        "colab": {}
      },
      "source": [
        "#initialize my global variable\n",
        "my_global_variables.init()"
      ],
      "execution_count": 0,
      "outputs": []
    },
    {
      "cell_type": "code",
      "metadata": {
        "id": "txr4cviLhiz0",
        "colab_type": "code",
        "colab": {}
      },
      "source": [
        "from my_dummy_variable_creator import MyDummyVariable"
      ],
      "execution_count": 0,
      "outputs": []
    },
    {
      "cell_type": "markdown",
      "metadata": {
        "id": "Z7MtFAGbQKHC",
        "colab_type": "text"
      },
      "source": [
        "[my dummy variable creator](https://github.com/noushadkhan01/my_methods/blob/master/my_dummy_variable_creator.py)"
      ]
    },
    {
      "cell_type": "code",
      "metadata": {
        "id": "378JLFnZhrQf",
        "colab_type": "code",
        "outputId": "dc6a6b7c-5a0d-49a4-df63-51be084abd86",
        "colab": {
          "base_uri": "https://localhost:8080/",
          "height": 71
        }
      },
      "source": [
        "ohe = MyDummyVariable() #create instance of MYDummyVariable class\n",
        "print(ohe)"
      ],
      "execution_count": 32,
      "outputs": [
        {
          "output_type": "stream",
          "text": [
            "MyDummyVariable(drop_first = True, categorical_features = None,\n",
            " \t\t\t      all_categorical = False ,return_dataframe = True,     labeld_features = None, all_labeled = False, unique_threshold = 5, drop_na = False)\n"
          ],
          "name": "stdout"
        }
      ]
    },
    {
      "cell_type": "code",
      "metadata": {
        "id": "NWPgsBGTh_-2",
        "colab_type": "code",
        "outputId": "7c118841-04e5-4dbd-e113-c3fca26e2d8c",
        "colab": {
          "base_uri": "https://localhost:8080/",
          "height": 165
        }
      },
      "source": [
        "data = ohe.fit_transform(df) #fit_transofrm dataframe\n",
        "data.head(2)"
      ],
      "execution_count": 33,
      "outputs": [
        {
          "output_type": "execute_result",
          "data": {
            "text/html": [
              "<div>\n",
              "<style scoped>\n",
              "    .dataframe tbody tr th:only-of-type {\n",
              "        vertical-align: middle;\n",
              "    }\n",
              "\n",
              "    .dataframe tbody tr th {\n",
              "        vertical-align: top;\n",
              "    }\n",
              "\n",
              "    .dataframe thead th {\n",
              "        text-align: right;\n",
              "    }\n",
              "</style>\n",
              "<table border=\"1\" class=\"dataframe\">\n",
              "  <thead>\n",
              "    <tr style=\"text-align: right;\">\n",
              "      <th></th>\n",
              "      <th>gender_Male</th>\n",
              "      <th>Partner_Yes</th>\n",
              "      <th>Dependents_Yes</th>\n",
              "      <th>PhoneService_Yes</th>\n",
              "      <th>MultipleLines_No phone service</th>\n",
              "      <th>MultipleLines_Yes</th>\n",
              "      <th>InternetService_Fiber optic</th>\n",
              "      <th>InternetService_No</th>\n",
              "      <th>OnlineSecurity_No internet service</th>\n",
              "      <th>OnlineSecurity_Yes</th>\n",
              "      <th>OnlineBackup_No internet service</th>\n",
              "      <th>OnlineBackup_Yes</th>\n",
              "      <th>DeviceProtection_No internet service</th>\n",
              "      <th>DeviceProtection_Yes</th>\n",
              "      <th>TechSupport_No internet service</th>\n",
              "      <th>TechSupport_Yes</th>\n",
              "      <th>StreamingTV_No internet service</th>\n",
              "      <th>StreamingTV_Yes</th>\n",
              "      <th>StreamingMovies_No internet service</th>\n",
              "      <th>StreamingMovies_Yes</th>\n",
              "      <th>Contract_One year</th>\n",
              "      <th>Contract_Two year</th>\n",
              "      <th>PaperlessBilling_Yes</th>\n",
              "      <th>PaymentMethod_Credit card (automatic)</th>\n",
              "      <th>PaymentMethod_Electronic check</th>\n",
              "      <th>PaymentMethod_Mailed check</th>\n",
              "      <th>Churn_Yes</th>\n",
              "      <th>SeniorCitizen</th>\n",
              "      <th>tenure</th>\n",
              "      <th>MonthlyCharges</th>\n",
              "      <th>TotalCharges</th>\n",
              "    </tr>\n",
              "  </thead>\n",
              "  <tbody>\n",
              "    <tr>\n",
              "      <th>0</th>\n",
              "      <td>0.0</td>\n",
              "      <td>1.0</td>\n",
              "      <td>0.0</td>\n",
              "      <td>0.0</td>\n",
              "      <td>1.0</td>\n",
              "      <td>0.0</td>\n",
              "      <td>0.0</td>\n",
              "      <td>0.0</td>\n",
              "      <td>0.0</td>\n",
              "      <td>0.0</td>\n",
              "      <td>0.0</td>\n",
              "      <td>1.0</td>\n",
              "      <td>0.0</td>\n",
              "      <td>0.0</td>\n",
              "      <td>0.0</td>\n",
              "      <td>0.0</td>\n",
              "      <td>0.0</td>\n",
              "      <td>0.0</td>\n",
              "      <td>0.0</td>\n",
              "      <td>0.0</td>\n",
              "      <td>0.0</td>\n",
              "      <td>0.0</td>\n",
              "      <td>1.0</td>\n",
              "      <td>0.0</td>\n",
              "      <td>1.0</td>\n",
              "      <td>0.0</td>\n",
              "      <td>0.0</td>\n",
              "      <td>0.0</td>\n",
              "      <td>1.0</td>\n",
              "      <td>29.85</td>\n",
              "      <td>29.85</td>\n",
              "    </tr>\n",
              "    <tr>\n",
              "      <th>1</th>\n",
              "      <td>1.0</td>\n",
              "      <td>0.0</td>\n",
              "      <td>0.0</td>\n",
              "      <td>1.0</td>\n",
              "      <td>0.0</td>\n",
              "      <td>0.0</td>\n",
              "      <td>0.0</td>\n",
              "      <td>0.0</td>\n",
              "      <td>0.0</td>\n",
              "      <td>1.0</td>\n",
              "      <td>0.0</td>\n",
              "      <td>0.0</td>\n",
              "      <td>0.0</td>\n",
              "      <td>1.0</td>\n",
              "      <td>0.0</td>\n",
              "      <td>0.0</td>\n",
              "      <td>0.0</td>\n",
              "      <td>0.0</td>\n",
              "      <td>0.0</td>\n",
              "      <td>0.0</td>\n",
              "      <td>1.0</td>\n",
              "      <td>0.0</td>\n",
              "      <td>0.0</td>\n",
              "      <td>0.0</td>\n",
              "      <td>0.0</td>\n",
              "      <td>1.0</td>\n",
              "      <td>0.0</td>\n",
              "      <td>0.0</td>\n",
              "      <td>34.0</td>\n",
              "      <td>56.95</td>\n",
              "      <td>1889.50</td>\n",
              "    </tr>\n",
              "  </tbody>\n",
              "</table>\n",
              "</div>"
            ],
            "text/plain": [
              "   gender_Male  Partner_Yes  ...  MonthlyCharges  TotalCharges\n",
              "0          0.0          1.0  ...           29.85         29.85\n",
              "1          1.0          0.0  ...           56.95       1889.50\n",
              "\n",
              "[2 rows x 31 columns]"
            ]
          },
          "metadata": {
            "tags": []
          },
          "execution_count": 33
        }
      ]
    },
    {
      "cell_type": "markdown",
      "metadata": {
        "id": "eaeQ1wxyEsCA",
        "colab_type": "text"
      },
      "source": [
        "**separate features and target**"
      ]
    },
    {
      "cell_type": "code",
      "metadata": {
        "id": "YfEFeCazml3C",
        "colab_type": "code",
        "colab": {}
      },
      "source": [
        "y = data.Churn_Yes\n",
        "X = data.drop(['Churn_Yes'], axis = 1)"
      ],
      "execution_count": 0,
      "outputs": []
    },
    {
      "cell_type": "code",
      "metadata": {
        "id": "C9pvk1nzm2_c",
        "colab_type": "code",
        "outputId": "94e738c8-bb63-4466-81f5-fa6b89bb876b",
        "colab": {
          "base_uri": "https://localhost:8080/",
          "height": 134
        }
      },
      "source": [
        "X.head(1)"
      ],
      "execution_count": 35,
      "outputs": [
        {
          "output_type": "execute_result",
          "data": {
            "text/html": [
              "<div>\n",
              "<style scoped>\n",
              "    .dataframe tbody tr th:only-of-type {\n",
              "        vertical-align: middle;\n",
              "    }\n",
              "\n",
              "    .dataframe tbody tr th {\n",
              "        vertical-align: top;\n",
              "    }\n",
              "\n",
              "    .dataframe thead th {\n",
              "        text-align: right;\n",
              "    }\n",
              "</style>\n",
              "<table border=\"1\" class=\"dataframe\">\n",
              "  <thead>\n",
              "    <tr style=\"text-align: right;\">\n",
              "      <th></th>\n",
              "      <th>gender_Male</th>\n",
              "      <th>Partner_Yes</th>\n",
              "      <th>Dependents_Yes</th>\n",
              "      <th>PhoneService_Yes</th>\n",
              "      <th>MultipleLines_No phone service</th>\n",
              "      <th>MultipleLines_Yes</th>\n",
              "      <th>InternetService_Fiber optic</th>\n",
              "      <th>InternetService_No</th>\n",
              "      <th>OnlineSecurity_No internet service</th>\n",
              "      <th>OnlineSecurity_Yes</th>\n",
              "      <th>OnlineBackup_No internet service</th>\n",
              "      <th>OnlineBackup_Yes</th>\n",
              "      <th>DeviceProtection_No internet service</th>\n",
              "      <th>DeviceProtection_Yes</th>\n",
              "      <th>TechSupport_No internet service</th>\n",
              "      <th>TechSupport_Yes</th>\n",
              "      <th>StreamingTV_No internet service</th>\n",
              "      <th>StreamingTV_Yes</th>\n",
              "      <th>StreamingMovies_No internet service</th>\n",
              "      <th>StreamingMovies_Yes</th>\n",
              "      <th>Contract_One year</th>\n",
              "      <th>Contract_Two year</th>\n",
              "      <th>PaperlessBilling_Yes</th>\n",
              "      <th>PaymentMethod_Credit card (automatic)</th>\n",
              "      <th>PaymentMethod_Electronic check</th>\n",
              "      <th>PaymentMethod_Mailed check</th>\n",
              "      <th>SeniorCitizen</th>\n",
              "      <th>tenure</th>\n",
              "      <th>MonthlyCharges</th>\n",
              "      <th>TotalCharges</th>\n",
              "    </tr>\n",
              "  </thead>\n",
              "  <tbody>\n",
              "    <tr>\n",
              "      <th>0</th>\n",
              "      <td>0.0</td>\n",
              "      <td>1.0</td>\n",
              "      <td>0.0</td>\n",
              "      <td>0.0</td>\n",
              "      <td>1.0</td>\n",
              "      <td>0.0</td>\n",
              "      <td>0.0</td>\n",
              "      <td>0.0</td>\n",
              "      <td>0.0</td>\n",
              "      <td>0.0</td>\n",
              "      <td>0.0</td>\n",
              "      <td>1.0</td>\n",
              "      <td>0.0</td>\n",
              "      <td>0.0</td>\n",
              "      <td>0.0</td>\n",
              "      <td>0.0</td>\n",
              "      <td>0.0</td>\n",
              "      <td>0.0</td>\n",
              "      <td>0.0</td>\n",
              "      <td>0.0</td>\n",
              "      <td>0.0</td>\n",
              "      <td>0.0</td>\n",
              "      <td>1.0</td>\n",
              "      <td>0.0</td>\n",
              "      <td>1.0</td>\n",
              "      <td>0.0</td>\n",
              "      <td>0.0</td>\n",
              "      <td>1.0</td>\n",
              "      <td>29.85</td>\n",
              "      <td>29.85</td>\n",
              "    </tr>\n",
              "  </tbody>\n",
              "</table>\n",
              "</div>"
            ],
            "text/plain": [
              "   gender_Male  Partner_Yes  ...  MonthlyCharges  TotalCharges\n",
              "0          0.0          1.0  ...           29.85         29.85\n",
              "\n",
              "[1 rows x 30 columns]"
            ]
          },
          "metadata": {
            "tags": []
          },
          "execution_count": 35
        }
      ]
    },
    {
      "cell_type": "markdown",
      "metadata": {
        "id": "KpXGJauuFAwC",
        "colab_type": "text"
      },
      "source": [
        "fill **TotalCharges** column's null values with mean of it"
      ]
    },
    {
      "cell_type": "code",
      "metadata": {
        "id": "QWg1bSvbnjzt",
        "colab_type": "code",
        "colab": {}
      },
      "source": [
        "X.TotalCharges.fillna(X.TotalCharges.mean(), inplace = True)"
      ],
      "execution_count": 0,
      "outputs": []
    },
    {
      "cell_type": "code",
      "metadata": {
        "id": "ScWi-jGxoPyU",
        "colab_type": "code",
        "outputId": "364d501b-0b3c-4e78-f431-7a9a944b32ed",
        "colab": {
          "base_uri": "https://localhost:8080/",
          "height": 34
        }
      },
      "source": [
        "X.isnull().any().sum() #check if the features have any null values"
      ],
      "execution_count": 37,
      "outputs": [
        {
          "output_type": "execute_result",
          "data": {
            "text/plain": [
              "0"
            ]
          },
          "metadata": {
            "tags": []
          },
          "execution_count": 37
        }
      ]
    },
    {
      "cell_type": "markdown",
      "metadata": {
        "id": "jiRtkwJXB2Av",
        "colab_type": "text"
      },
      "source": [
        "## validation data\n",
        "get validation data for further model evaluation"
      ]
    },
    {
      "cell_type": "markdown",
      "metadata": {
        "id": "CJeL4ryNFk7w",
        "colab_type": "text"
      },
      "source": [
        "**select random indexes for validation dataset**"
      ]
    },
    {
      "cell_type": "code",
      "metadata": {
        "id": "KCNa-3zKCT_E",
        "colab_type": "code",
        "outputId": "5d95ab6f-1c16-4f0e-b4ee-30314fe42090",
        "colab": {
          "base_uri": "https://localhost:8080/",
          "height": 34
        }
      },
      "source": [
        "validate_index = np.random.randint(0, len(X), size = (30))\n",
        "validate_index[:3]"
      ],
      "execution_count": 38,
      "outputs": [
        {
          "output_type": "execute_result",
          "data": {
            "text/plain": [
              "array([3735, 6404, 4290])"
            ]
          },
          "metadata": {
            "tags": []
          },
          "execution_count": 38
        }
      ]
    },
    {
      "cell_type": "code",
      "metadata": {
        "id": "shu5AfppCQ8J",
        "colab_type": "code",
        "outputId": "980815d0-78a7-4a75-e12f-2e00ee8c5ea6",
        "colab": {
          "base_uri": "https://localhost:8080/",
          "height": 165
        }
      },
      "source": [
        "X_validation = X.loc[validate_index]\n",
        "X_validation.head(2)"
      ],
      "execution_count": 39,
      "outputs": [
        {
          "output_type": "execute_result",
          "data": {
            "text/html": [
              "<div>\n",
              "<style scoped>\n",
              "    .dataframe tbody tr th:only-of-type {\n",
              "        vertical-align: middle;\n",
              "    }\n",
              "\n",
              "    .dataframe tbody tr th {\n",
              "        vertical-align: top;\n",
              "    }\n",
              "\n",
              "    .dataframe thead th {\n",
              "        text-align: right;\n",
              "    }\n",
              "</style>\n",
              "<table border=\"1\" class=\"dataframe\">\n",
              "  <thead>\n",
              "    <tr style=\"text-align: right;\">\n",
              "      <th></th>\n",
              "      <th>gender_Male</th>\n",
              "      <th>Partner_Yes</th>\n",
              "      <th>Dependents_Yes</th>\n",
              "      <th>PhoneService_Yes</th>\n",
              "      <th>MultipleLines_No phone service</th>\n",
              "      <th>MultipleLines_Yes</th>\n",
              "      <th>InternetService_Fiber optic</th>\n",
              "      <th>InternetService_No</th>\n",
              "      <th>OnlineSecurity_No internet service</th>\n",
              "      <th>OnlineSecurity_Yes</th>\n",
              "      <th>OnlineBackup_No internet service</th>\n",
              "      <th>OnlineBackup_Yes</th>\n",
              "      <th>DeviceProtection_No internet service</th>\n",
              "      <th>DeviceProtection_Yes</th>\n",
              "      <th>TechSupport_No internet service</th>\n",
              "      <th>TechSupport_Yes</th>\n",
              "      <th>StreamingTV_No internet service</th>\n",
              "      <th>StreamingTV_Yes</th>\n",
              "      <th>StreamingMovies_No internet service</th>\n",
              "      <th>StreamingMovies_Yes</th>\n",
              "      <th>Contract_One year</th>\n",
              "      <th>Contract_Two year</th>\n",
              "      <th>PaperlessBilling_Yes</th>\n",
              "      <th>PaymentMethod_Credit card (automatic)</th>\n",
              "      <th>PaymentMethod_Electronic check</th>\n",
              "      <th>PaymentMethod_Mailed check</th>\n",
              "      <th>SeniorCitizen</th>\n",
              "      <th>tenure</th>\n",
              "      <th>MonthlyCharges</th>\n",
              "      <th>TotalCharges</th>\n",
              "    </tr>\n",
              "  </thead>\n",
              "  <tbody>\n",
              "    <tr>\n",
              "      <th>3735</th>\n",
              "      <td>0.0</td>\n",
              "      <td>1.0</td>\n",
              "      <td>0.0</td>\n",
              "      <td>1.0</td>\n",
              "      <td>0.0</td>\n",
              "      <td>1.0</td>\n",
              "      <td>1.0</td>\n",
              "      <td>0.0</td>\n",
              "      <td>0.0</td>\n",
              "      <td>0.0</td>\n",
              "      <td>0.0</td>\n",
              "      <td>0.0</td>\n",
              "      <td>0.0</td>\n",
              "      <td>0.0</td>\n",
              "      <td>0.0</td>\n",
              "      <td>0.0</td>\n",
              "      <td>0.0</td>\n",
              "      <td>1.0</td>\n",
              "      <td>0.0</td>\n",
              "      <td>0.0</td>\n",
              "      <td>0.0</td>\n",
              "      <td>0.0</td>\n",
              "      <td>1.0</td>\n",
              "      <td>0.0</td>\n",
              "      <td>1.0</td>\n",
              "      <td>0.0</td>\n",
              "      <td>0.0</td>\n",
              "      <td>2.0</td>\n",
              "      <td>84.05</td>\n",
              "      <td>134.05</td>\n",
              "    </tr>\n",
              "    <tr>\n",
              "      <th>6404</th>\n",
              "      <td>1.0</td>\n",
              "      <td>0.0</td>\n",
              "      <td>0.0</td>\n",
              "      <td>1.0</td>\n",
              "      <td>0.0</td>\n",
              "      <td>1.0</td>\n",
              "      <td>1.0</td>\n",
              "      <td>0.0</td>\n",
              "      <td>0.0</td>\n",
              "      <td>1.0</td>\n",
              "      <td>0.0</td>\n",
              "      <td>0.0</td>\n",
              "      <td>0.0</td>\n",
              "      <td>1.0</td>\n",
              "      <td>0.0</td>\n",
              "      <td>1.0</td>\n",
              "      <td>0.0</td>\n",
              "      <td>1.0</td>\n",
              "      <td>0.0</td>\n",
              "      <td>1.0</td>\n",
              "      <td>0.0</td>\n",
              "      <td>1.0</td>\n",
              "      <td>1.0</td>\n",
              "      <td>0.0</td>\n",
              "      <td>1.0</td>\n",
              "      <td>0.0</td>\n",
              "      <td>0.0</td>\n",
              "      <td>52.0</td>\n",
              "      <td>109.30</td>\n",
              "      <td>5731.40</td>\n",
              "    </tr>\n",
              "  </tbody>\n",
              "</table>\n",
              "</div>"
            ],
            "text/plain": [
              "      gender_Male  Partner_Yes  ...  MonthlyCharges  TotalCharges\n",
              "3735          0.0          1.0  ...           84.05        134.05\n",
              "6404          1.0          0.0  ...          109.30       5731.40\n",
              "\n",
              "[2 rows x 30 columns]"
            ]
          },
          "metadata": {
            "tags": []
          },
          "execution_count": 39
        }
      ]
    },
    {
      "cell_type": "code",
      "metadata": {
        "id": "bcNtAuKHEPcX",
        "colab_type": "code",
        "outputId": "cc6b899a-9608-4d89-acf2-c2afc8c9177e",
        "colab": {
          "base_uri": "https://localhost:8080/",
          "height": 204
        }
      },
      "source": [
        "y_validation = y.loc[validate_index]\n",
        "y_validation[:10]"
      ],
      "execution_count": 40,
      "outputs": [
        {
          "output_type": "execute_result",
          "data": {
            "text/plain": [
              "3735    0.0\n",
              "6404    0.0\n",
              "4290    1.0\n",
              "3952    0.0\n",
              "4186    0.0\n",
              "6359    0.0\n",
              "3107    0.0\n",
              "38      1.0\n",
              "5662    1.0\n",
              "2786    0.0\n",
              "Name: Churn_Yes, dtype: float64"
            ]
          },
          "metadata": {
            "tags": []
          },
          "execution_count": 40
        }
      ]
    },
    {
      "cell_type": "code",
      "metadata": {
        "id": "QxFDTpbQE-XH",
        "colab_type": "code",
        "colab": {}
      },
      "source": [
        "X.drop(validate_index, inplace = True) #drop X_validation data from the X"
      ],
      "execution_count": 0,
      "outputs": []
    },
    {
      "cell_type": "code",
      "metadata": {
        "id": "xmVhqyahFnG3",
        "colab_type": "code",
        "colab": {}
      },
      "source": [
        "y.drop(validate_index, inplace = True) #drop y_validation from the y"
      ],
      "execution_count": 0,
      "outputs": []
    },
    {
      "cell_type": "code",
      "metadata": {
        "id": "987Gf3m43ItB",
        "colab_type": "code",
        "outputId": "db59c1f6-c1b2-4758-efef-0e69779215b0",
        "colab": {
          "base_uri": "https://localhost:8080/",
          "height": 34
        }
      },
      "source": [
        "from sklearn.model_selection import train_test_split\n",
        "X_train, X_test, y_train, y_test = train_test_split(X, y, test_size = .2, random_state = 0)\n",
        "X_train.shape, X_test.shape, y_train.shape, y_test.shape"
      ],
      "execution_count": 43,
      "outputs": [
        {
          "output_type": "execute_result",
          "data": {
            "text/plain": [
              "((5610, 30), (1403, 30), (5610,), (1403,))"
            ]
          },
          "metadata": {
            "tags": []
          },
          "execution_count": 43
        }
      ]
    },
    {
      "cell_type": "markdown",
      "metadata": {
        "id": "S5hyn1fdCsfF",
        "colab_type": "text"
      },
      "source": [
        "#Data Visualisation"
      ]
    },
    {
      "cell_type": "code",
      "metadata": {
        "id": "EHDVzD_ppl12",
        "colab_type": "code",
        "outputId": "e3266eb1-1634-4b19-94db-1678cebc32e5",
        "colab": {
          "base_uri": "https://localhost:8080/",
          "height": 34
        }
      },
      "source": [
        "#numeric columns in our dataset\n",
        "df.select_dtypes(exclude = 'object').columns"
      ],
      "execution_count": 44,
      "outputs": [
        {
          "output_type": "execute_result",
          "data": {
            "text/plain": [
              "Index(['SeniorCitizen', 'tenure', 'MonthlyCharges', 'TotalCharges'], dtype='object')"
            ]
          },
          "metadata": {
            "tags": []
          },
          "execution_count": 44
        }
      ]
    },
    {
      "cell_type": "code",
      "metadata": {
        "id": "t3zRS3qHqTbX",
        "colab_type": "code",
        "outputId": "cb09b420-922f-4c4e-cf47-c580b3d58765",
        "colab": {
          "base_uri": "https://localhost:8080/",
          "height": 269
        }
      },
      "source": [
        "sns.boxplot(df.MonthlyCharges, orient = 'vertical')"
      ],
      "execution_count": 45,
      "outputs": [
        {
          "output_type": "execute_result",
          "data": {
            "text/plain": [
              "<matplotlib.axes._subplots.AxesSubplot at 0x7f03f8ff2940>"
            ]
          },
          "metadata": {
            "tags": []
          },
          "execution_count": 45
        },
        {
          "output_type": "display_data",
          "data": {
            "image/png": "[encoded data removed]",
            "text/plain": [
              "<Figure size 432x288 with 1 Axes>"
            ]
          },
          "metadata": {
            "tags": []
          }
        }
      ]
    },
    {
      "cell_type": "code",
      "metadata": {
        "id": "O31Bc2cpqtDx",
        "colab_type": "code",
        "outputId": "35677293-a32f-47f6-f6de-f1ccd2942793",
        "colab": {
          "base_uri": "https://localhost:8080/",
          "height": 269
        }
      },
      "source": [
        "sns.boxplot(df.TotalCharges, orient = 'vertical')"
      ],
      "execution_count": 46,
      "outputs": [
        {
          "output_type": "execute_result",
          "data": {
            "text/plain": [
              "<matplotlib.axes._subplots.AxesSubplot at 0x7f03f8d58048>"
            ]
          },
          "metadata": {
            "tags": []
          },
          "execution_count": 46
        },
        {
          "output_type": "display_data",
          "data": {
            "image/png": "[encoded data removed]",
            "text/plain": [
              "<Figure size 432x288 with 1 Axes>"
            ]
          },
          "metadata": {
            "tags": []
          }
        }
      ]
    },
    {
      "cell_type": "code",
      "metadata": {
        "id": "gEXUX46Eqwt0",
        "colab_type": "code",
        "outputId": "368a1ad4-2f67-4783-ed18-00bb309f932e",
        "colab": {
          "base_uri": "https://localhost:8080/",
          "height": 269
        }
      },
      "source": [
        "sns.boxplot(df.tenure, orient = 'vertical')"
      ],
      "execution_count": 47,
      "outputs": [
        {
          "output_type": "execute_result",
          "data": {
            "text/plain": [
              "<matplotlib.axes._subplots.AxesSubplot at 0x7f03f8d3e5c0>"
            ]
          },
          "metadata": {
            "tags": []
          },
          "execution_count": 47
        },
        {
          "output_type": "display_data",
          "data": {
            "image/png": "[encoded data removed]",
            "text/plain": [
              "<Figure size 432x288 with 1 Axes>"
            ]
          },
          "metadata": {
            "tags": []
          }
        }
      ]
    },
    {
      "cell_type": "code",
      "metadata": {
        "id": "BRW6UJyenEeX",
        "colab_type": "code",
        "outputId": "6c431ed0-694f-43bd-c180-340e205aa342",
        "colab": {
          "base_uri": "https://localhost:8080/",
          "height": 300
        }
      },
      "source": [
        "#check frequency of each class in our dataset\n",
        "sns.countplot(y)"
      ],
      "execution_count": 48,
      "outputs": [
        {
          "output_type": "execute_result",
          "data": {
            "text/plain": [
              "<matplotlib.axes._subplots.AxesSubplot at 0x7f03f8ca4080>"
            ]
          },
          "metadata": {
            "tags": []
          },
          "execution_count": 48
        },
        {
          "output_type": "display_data",
          "data": {
            "image/png": "[encoded data removed]",
            "text/plain": [
              "<Figure size 432x288 with 1 Axes>"
            ]
          },
          "metadata": {
            "tags": []
          }
        }
      ]
    },
    {
      "cell_type": "markdown",
      "metadata": {
        "id": "8bVV2dYKFR5m",
        "colab_type": "text"
      },
      "source": [
        "### Conclusion: What all did you understand from the above charts\n",
        "**there is a class imbalance in our dataset so we need to balance the class using ``SVMSMOTE``**"
      ]
    },
    {
      "cell_type": "markdown",
      "metadata": {
        "id": "2GNgx7_A3Is4",
        "colab_type": "text"
      },
      "source": [
        "# Implement Machine Learning Models"
      ]
    },
    {
      "cell_type": "code",
      "metadata": {
        "id": "DaO3Qj9_3Is5",
        "colab_type": "code",
        "outputId": "8c2a23ce-90fc-4107-e40b-ed3325292830",
        "colab": {
          "base_uri": "https://localhost:8080/",
          "height": 153
        }
      },
      "source": [
        "!ls "
      ],
      "execution_count": 49,
      "outputs": [
        {
          "output_type": "stream",
          "text": [
            "choose_best_classifier.py\t      my_global_variables.py\n",
            "choose_best_regressor.py\t      my_roc_curve.py\n",
            "choose_optimal_number_of_clusters.py  plot_text.py\n",
            "get_cross_validation.py\t\t      print_model_results.py\n",
            "initialize_weights.py\t\t      __pycache__\n",
            "my_backward_propagation.py\t      README.md\n",
            "my_cap_curve.py\t\t\t      sgd_neural_net.py\n",
            "my_dummy_variable_creator.py\t      visualise_classifier_performance.py\n"
          ],
          "name": "stdout"
        }
      ]
    },
    {
      "cell_type": "markdown",
      "metadata": {
        "id": "763K8gx4GO9i",
        "colab_type": "text"
      },
      "source": [
        "##choose best classifier with **imbalanced classes**\n",
        "**choose which classifier is best for our model with default parameters**"
      ]
    },
    {
      "cell_type": "code",
      "metadata": {
        "id": "VVU6joFf3ItF",
        "colab_type": "code",
        "colab": {}
      },
      "source": [
        "from choose_best_classifier import choose_best_classifier"
      ],
      "execution_count": 0,
      "outputs": []
    },
    {
      "cell_type": "markdown",
      "metadata": {
        "id": "JKlfMB7cUJtA",
        "colab_type": "text"
      },
      "source": [
        "[see code of **choose best classifier**](https://github.com/noushadkhan01/my_methods/blob/master/choose_best_classifier.py)"
      ]
    },
    {
      "cell_type": "code",
      "metadata": {
        "id": "rdoUwFyjq6qF",
        "colab_type": "code",
        "colab": {}
      },
      "source": [
        "import warnings"
      ],
      "execution_count": 0,
      "outputs": []
    },
    {
      "cell_type": "code",
      "metadata": {
        "id": "qjuhArlAq9Sh",
        "colab_type": "code",
        "colab": {}
      },
      "source": [
        "warnings.filterwarnings(action = 'ignore') #ignore warnings"
      ],
      "execution_count": 0,
      "outputs": []
    },
    {
      "cell_type": "code",
      "metadata": {
        "id": "K1_ZJa8e3ItJ",
        "colab_type": "code",
        "outputId": "f434151b-aa1c-4ce6-f9d7-06b8d7602a61",
        "colab": {
          "base_uri": "https://localhost:8080/",
          "height": 525
        }
      },
      "source": [
        "choose_best_classifier(X, y)"
      ],
      "execution_count": 53,
      "outputs": [
        {
          "output_type": "stream",
          "text": [
            "model name:-- scores mean, (scores variance)\n",
            "PCA with LR: -- 0.7851144681387192, (0.014045240027025112)\n",
            "Logistic Regression: -- 0.8016551446651304, (0.0072510913822738075)\n",
            "LDA: -- 0.7968043210553909, (0.009857376291878245)\n",
            "KNN: -- 0.7628678607280605, (0.00996771770227946)\n",
            "DTree: -- 0.7627282555242612, (0.012804890231560064)\n",
            "RandomForest: -- 0.7955190184148815, (0.01104211215429258)\n",
            "Naive Bayes: -- 0.661911351711637, (0.019537757967750254)\n",
            "SVM: -- 0.7347787653779094, (0.012086407242717393)\n",
            "Xgboost: -- 0.8019374032212834, (0.012272092023115272)\n",
            " Done"
          ],
          "name": "stdout"
        },
        {
          "output_type": "display_data",
          "data": {
            "image/png": "[encoded data removed]",
            "text/plain": [
              "<Figure size 432x288 with 1 Axes>"
            ]
          },
          "metadata": {
            "tags": []
          }
        }
      ]
    },
    {
      "cell_type": "markdown",
      "metadata": {
        "id": "KZRnFC6K3ItO",
        "colab_type": "text"
      },
      "source": [
        "^According to this **Logistic Regression** is best for this dataset"
      ]
    },
    {
      "cell_type": "code",
      "metadata": {
        "id": "UBHLm1pP7JRH",
        "colab_type": "code",
        "outputId": "65926203-26d0-4549-d341-f05b7db4ad8a",
        "colab": {
          "base_uri": "https://localhost:8080/",
          "height": 153
        }
      },
      "source": [
        "!ls"
      ],
      "execution_count": 54,
      "outputs": [
        {
          "output_type": "stream",
          "text": [
            "choose_best_classifier.py\t      my_global_variables.py\n",
            "choose_best_regressor.py\t      my_roc_curve.py\n",
            "choose_optimal_number_of_clusters.py  plot_text.py\n",
            "get_cross_validation.py\t\t      print_model_results.py\n",
            "initialize_weights.py\t\t      __pycache__\n",
            "my_backward_propagation.py\t      README.md\n",
            "my_cap_curve.py\t\t\t      sgd_neural_net.py\n",
            "my_dummy_variable_creator.py\t      visualise_classifier_performance.py\n"
          ],
          "name": "stdout"
        }
      ]
    },
    {
      "cell_type": "markdown",
      "metadata": {
        "id": "4gtdGFCmHe3W",
        "colab_type": "text"
      },
      "source": [
        "**print model results**\n",
        "\n",
        "its a methods created by me, which print train score, test score, \n",
        "train confusion matrix , test confusion matrix, test classification report"
      ]
    },
    {
      "cell_type": "code",
      "metadata": {
        "id": "x9wTPiBp7Kal",
        "colab_type": "code",
        "colab": {}
      },
      "source": [
        "from print_model_results import print_model_results"
      ],
      "execution_count": 0,
      "outputs": []
    },
    {
      "cell_type": "markdown",
      "metadata": {
        "id": "slFlrBgtH9nz",
        "colab_type": "text"
      },
      "source": [
        "[see **print model results** at github](https://github.com/noushadkhan01/my_methods/blob/master/print_model_results.py)"
      ]
    },
    {
      "cell_type": "code",
      "metadata": {
        "id": "aqDHqtyK3ItR",
        "colab_type": "code",
        "colab": {}
      },
      "source": [
        "#import LogisticRegression\n",
        "from sklearn.linear_model import LogisticRegression"
      ],
      "execution_count": 0,
      "outputs": []
    },
    {
      "cell_type": "code",
      "metadata": {
        "id": "QS3S-hHG3ItW",
        "colab_type": "code",
        "colab": {}
      },
      "source": [
        "#create model\n",
        "model = LogisticRegression()"
      ],
      "execution_count": 0,
      "outputs": []
    },
    {
      "cell_type": "code",
      "metadata": {
        "id": "peTgZYFp7bY9",
        "colab_type": "code",
        "outputId": "4add91f6-4639-4f65-e6a1-76049a756a06",
        "colab": {
          "base_uri": "https://localhost:8080/",
          "height": 561
        }
      },
      "source": [
        "#print model results\n",
        "print_model_results(X_train, X_test, y_train, y_test, model)"
      ],
      "execution_count": 59,
      "outputs": [
        {
          "output_type": "stream",
          "text": [
            " Train score is 0.8067736185383244\n",
            "\n",
            "\n",
            "Test score is 0.8104062722736992\n",
            "\n",
            "\n",
            "\n",
            "Train confusion matrix is \n",
            " [[3702  420]\n",
            " [ 664  824]]\n",
            "\n",
            "Test confusion matrix is \n",
            " [[940  91]\n",
            " [175 197]]\n",
            "\n",
            "\n",
            "\n",
            "Test Set classification report is \n",
            "               precision    recall  f1-score   support\n",
            "\n",
            "         0.0       0.84      0.91      0.88      1031\n",
            "         1.0       0.68      0.53      0.60       372\n",
            "\n",
            "    accuracy                           0.81      1403\n",
            "   macro avg       0.76      0.72      0.74      1403\n",
            "weighted avg       0.80      0.81      0.80      1403\n",
            "\n"
          ],
          "name": "stdout"
        },
        {
          "output_type": "execute_result",
          "data": {
            "text/plain": [
              "LogisticRegression(C=1.0, class_weight=None, dual=False, fit_intercept=True,\n",
              "                   intercept_scaling=1, l1_ratio=None, max_iter=100,\n",
              "                   multi_class='auto', n_jobs=None, penalty='l2',\n",
              "                   random_state=None, solver='lbfgs', tol=0.0001, verbose=0,\n",
              "                   warm_start=False)"
            ]
          },
          "metadata": {
            "tags": []
          },
          "execution_count": 59
        }
      ]
    },
    {
      "cell_type": "code",
      "metadata": {
        "id": "olPTVTaCKb70",
        "colab_type": "code",
        "outputId": "f6f65048-af6a-45a2-cdab-59ad4016c92d",
        "colab": {
          "base_uri": "https://localhost:8080/",
          "height": 102
        }
      },
      "source": [
        "my_global_variables.my_models"
      ],
      "execution_count": 60,
      "outputs": [
        {
          "output_type": "execute_result",
          "data": {
            "text/plain": [
              "{'LogisticRegression': LogisticRegression(C=1.0, class_weight=None, dual=False, fit_intercept=True,\n",
              "                    intercept_scaling=1, l1_ratio=None, max_iter=100,\n",
              "                    multi_class='auto', n_jobs=None, penalty='l2',\n",
              "                    random_state=None, solver='lbfgs', tol=0.0001, verbose=0,\n",
              "                    warm_start=False)}"
            ]
          },
          "metadata": {
            "tags": []
          },
          "execution_count": 60
        }
      ]
    },
    {
      "cell_type": "markdown",
      "metadata": {
        "id": "IQIReyBazt-C",
        "colab_type": "text"
      },
      "source": [
        "**^As we can see there is a low recall for class 1.0**"
      ]
    },
    {
      "cell_type": "markdown",
      "metadata": {
        "id": "DEatxjjykytQ",
        "colab_type": "text"
      },
      "source": [
        "##choose best classifier with **balanced classes**\n",
        "There is a class imbalance in our dataset so we need to balance the class such that both classes have the same "
      ]
    },
    {
      "cell_type": "code",
      "metadata": {
        "id": "T7fTVSMZ8QHU",
        "colab_type": "code",
        "colab": {}
      },
      "source": [
        "from imblearn.over_sampling import SMOTE"
      ],
      "execution_count": 0,
      "outputs": []
    },
    {
      "cell_type": "code",
      "metadata": {
        "id": "FsPtR5as8Ox_",
        "colab_type": "code",
        "colab": {}
      },
      "source": [
        "sm = SMOTE(random_state = 2)"
      ],
      "execution_count": 0,
      "outputs": []
    },
    {
      "cell_type": "code",
      "metadata": {
        "id": "ho9VdNq58a3R",
        "colab_type": "code",
        "outputId": "3a809d56-14bd-4923-aa03-b3c1c63775f9",
        "colab": {
          "base_uri": "https://localhost:8080/",
          "height": 34
        }
      },
      "source": [
        "X_sm, y_sm = sm.fit_sample(X, y)\n",
        "X_sm.shape, y_sm.shape"
      ],
      "execution_count": 63,
      "outputs": [
        {
          "output_type": "execute_result",
          "data": {
            "text/plain": [
              "((10306, 30), (10306,))"
            ]
          },
          "metadata": {
            "tags": []
          },
          "execution_count": 63
        }
      ]
    },
    {
      "cell_type": "code",
      "metadata": {
        "id": "ibdjWgBt9lJ5",
        "colab_type": "code",
        "outputId": "87d8616a-79f2-4973-8464-e7040f1709e9",
        "colab": {
          "base_uri": "https://localhost:8080/",
          "height": 525
        }
      },
      "source": [
        "#check best classifier for balanced dataset\n",
        "choose_best_classifier(X_sm, y_sm)"
      ],
      "execution_count": 64,
      "outputs": [
        {
          "output_type": "stream",
          "text": [
            "model name:-- scores mean, (scores variance)\n",
            "PCA with LR: -- 0.7076431591536165, (0.012904111011118012)\n",
            "Logistic Regression: -- 0.7512167468665544, (0.017724474030377836)\n",
            "LDA: -- 0.7495713465105986, (0.02122973603680692)\n",
            "KNN: -- 0.7611347263943952, (0.05774075467845028)\n",
            "DTree: -- 0.8235358262785683, (0.08208263065801763)\n",
            "RandomForest: -- 0.849443277805505, (0.08417045183583181)\n",
            "Naive Bayes: -- 0.7412627009313232, (0.10717531904903181)\n",
            "SVM: -- 0.6273742148729201, (0.07775533670835062)\n",
            "Xgboost: -- 0.8609910257738269, (0.08800738955212696)\n",
            " Done"
          ],
          "name": "stdout"
        },
        {
          "output_type": "display_data",
          "data": {
            "image/png": "[encoded data removed]",
            "text/plain": [
              "<Figure size 432x288 with 1 Axes>"
            ]
          },
          "metadata": {
            "tags": []
          }
        }
      ]
    },
    {
      "cell_type": "markdown",
      "metadata": {
        "id": "RDWnoI1hmqzE",
        "colab_type": "text"
      },
      "source": [
        "^^According to this **RandomForest** and **Xgboost** is best\n",
        "\n",
        "but Random Forest cause overfitting sometimes"
      ]
    },
    {
      "cell_type": "markdown",
      "metadata": {
        "id": "1d5xZAExMxVI",
        "colab_type": "text"
      },
      "source": [
        "###RandomForestClassifier"
      ]
    },
    {
      "cell_type": "code",
      "metadata": {
        "id": "qe-WTcvemuz7",
        "colab_type": "code",
        "colab": {}
      },
      "source": [
        "from sklearn.ensemble import RandomForestClassifier"
      ],
      "execution_count": 0,
      "outputs": []
    },
    {
      "cell_type": "code",
      "metadata": {
        "id": "q3t95S9uIM-b",
        "colab_type": "code",
        "colab": {}
      },
      "source": [
        "sm2 = SMOTE(random_state = 2)"
      ],
      "execution_count": 0,
      "outputs": []
    },
    {
      "cell_type": "code",
      "metadata": {
        "id": "ATRkjfuVIS6D",
        "colab_type": "code",
        "colab": {}
      },
      "source": [
        "X_train_sm, y_train_sm = sm2.fit_sample(X_train, y_train)"
      ],
      "execution_count": 0,
      "outputs": []
    },
    {
      "cell_type": "code",
      "metadata": {
        "id": "plkHCp5JIks2",
        "colab_type": "code",
        "outputId": "b3951b88-962d-454a-c954-9fbf9d92e302",
        "colab": {
          "base_uri": "https://localhost:8080/",
          "height": 34
        }
      },
      "source": [
        "X_train_sm.shape, y_train_sm.shape"
      ],
      "execution_count": 68,
      "outputs": [
        {
          "output_type": "execute_result",
          "data": {
            "text/plain": [
              "((8244, 30), (8244,))"
            ]
          },
          "metadata": {
            "tags": []
          },
          "execution_count": 68
        }
      ]
    },
    {
      "cell_type": "code",
      "metadata": {
        "id": "NXdCm9U0IZoS",
        "colab_type": "code",
        "outputId": "66d16444-c95b-4d11-9c9a-da57f6fc0da5",
        "colab": {
          "base_uri": "https://localhost:8080/",
          "height": 34
        }
      },
      "source": [
        "X_test_sm, y_test_sm = sm2.fit_resample(X_test, y_test)\n",
        "X_test_sm.shape, y_test_sm.shape"
      ],
      "execution_count": 69,
      "outputs": [
        {
          "output_type": "execute_result",
          "data": {
            "text/plain": [
              "((2062, 30), (2062,))"
            ]
          },
          "metadata": {
            "tags": []
          },
          "execution_count": 69
        }
      ]
    },
    {
      "cell_type": "code",
      "metadata": {
        "id": "H1jolYsmmzkI",
        "colab_type": "code",
        "outputId": "c92de39d-7e1e-4069-a946-88349a9c9243",
        "colab": {
          "base_uri": "https://localhost:8080/",
          "height": 612
        }
      },
      "source": [
        "rf = RandomForestClassifier()\n",
        "print_model_results(X_train_sm, X_test_sm, y_train_sm, y_test_sm, model = rf)"
      ],
      "execution_count": 70,
      "outputs": [
        {
          "output_type": "stream",
          "text": [
            " Train score is 0.9986656962639495\n",
            "\n",
            "\n",
            "Test score is 0.8385063045586809\n",
            "\n",
            "\n",
            "\n",
            "Train confusion matrix is \n",
            " [[4115    7]\n",
            " [   4 4118]]\n",
            "\n",
            "Test confusion matrix is \n",
            " [[915 116]\n",
            " [217 814]]\n",
            "\n",
            "\n",
            "\n",
            "Test Set classification report is \n",
            "               precision    recall  f1-score   support\n",
            "\n",
            "         0.0       0.81      0.89      0.85      1031\n",
            "         1.0       0.88      0.79      0.83      1031\n",
            "\n",
            "    accuracy                           0.84      2062\n",
            "   macro avg       0.84      0.84      0.84      2062\n",
            "weighted avg       0.84      0.84      0.84      2062\n",
            "\n"
          ],
          "name": "stdout"
        },
        {
          "output_type": "execute_result",
          "data": {
            "text/plain": [
              "RandomForestClassifier(bootstrap=True, ccp_alpha=0.0, class_weight=None,\n",
              "                       criterion='gini', max_depth=None, max_features='auto',\n",
              "                       max_leaf_nodes=None, max_samples=None,\n",
              "                       min_impurity_decrease=0.0, min_impurity_split=None,\n",
              "                       min_samples_leaf=1, min_samples_split=2,\n",
              "                       min_weight_fraction_leaf=0.0, n_estimators=100,\n",
              "                       n_jobs=None, oob_score=False, random_state=None,\n",
              "                       verbose=0, warm_start=False)"
            ]
          },
          "metadata": {
            "tags": []
          },
          "execution_count": 70
        }
      ]
    },
    {
      "cell_type": "code",
      "metadata": {
        "id": "P8OFjLox2BSv",
        "colab_type": "code",
        "colab": {}
      },
      "source": [
        "from sklearn.metrics import confusion_matrix, classification_report"
      ],
      "execution_count": 0,
      "outputs": []
    },
    {
      "cell_type": "markdown",
      "metadata": {
        "id": "tdY2QVnMGPvP",
        "colab_type": "text"
      },
      "source": [
        "####for validation data"
      ]
    },
    {
      "cell_type": "code",
      "metadata": {
        "id": "4y_ac7sC3EpL",
        "colab_type": "code",
        "outputId": "75c7c4db-21b8-4cd5-e3c7-0fa280ebfc72",
        "colab": {
          "base_uri": "https://localhost:8080/",
          "height": 51
        }
      },
      "source": [
        "confusion_matrix(y_validation, rf.predict(X_validation))"
      ],
      "execution_count": 72,
      "outputs": [
        {
          "output_type": "execute_result",
          "data": {
            "text/plain": [
              "array([[19,  2],\n",
              "       [ 3,  6]])"
            ]
          },
          "metadata": {
            "tags": []
          },
          "execution_count": 72
        }
      ]
    },
    {
      "cell_type": "markdown",
      "metadata": {
        "id": "dCDJl2S2my5V",
        "colab_type": "text"
      },
      "source": [
        "####parameter tuning of **RandomForest** Classifier"
      ]
    },
    {
      "cell_type": "markdown",
      "metadata": {
        "id": "tHahmoedbiOp",
        "colab_type": "text"
      },
      "source": [
        "**prevent overfitting**"
      ]
    },
    {
      "cell_type": "code",
      "metadata": {
        "id": "2mQbtds5-GHD",
        "colab_type": "code",
        "colab": {}
      },
      "source": [
        "import matplotlib.pyplot as plt"
      ],
      "execution_count": 0,
      "outputs": []
    },
    {
      "cell_type": "code",
      "metadata": {
        "id": "8e-kXaTxUvuX",
        "colab_type": "code",
        "colab": {}
      },
      "source": [
        "train_scores = []\n",
        "test_scores = []\n",
        "for i in range(2, 100):\n",
        "  rf = RandomForestClassifier(n_estimators = 30, min_samples_split = i)\n",
        "  rf.fit(X_train_sm, y_train_sm)\n",
        "  train_scores.append(rf.score(X_train_sm, y_train_sm))\n",
        "  test_scores.append(rf.score(X_test_sm, y_test_sm))"
      ],
      "execution_count": 0,
      "outputs": []
    },
    {
      "cell_type": "code",
      "metadata": {
        "id": "EbyOJU8dHcSp",
        "colab_type": "code",
        "outputId": "6ed9cdf5-c22a-4184-8fbd-81b2c80d03da",
        "colab": {
          "base_uri": "https://localhost:8080/",
          "height": 348
        }
      },
      "source": [
        "plt.figure(figsize = (22, 5))\n",
        "plt.plot(range(2, 100), train_scores, label = 'Train score')\n",
        "plt.plot(range(2, 100), test_scores, label = 'Test score')\n",
        "plt.legend()\n",
        "plt.xticks(ticks = range(2, 100), rotation = 45)\n",
        "plt.show()"
      ],
      "execution_count": 75,
      "outputs": [
        {
          "output_type": "display_data",
          "data": {
            "image/png": "[encoded data removed]",
            "text/plain": [
              "<Figure size 1584x360 with 1 Axes>"
            ]
          },
          "metadata": {
            "tags": []
          }
        }
      ]
    },
    {
      "cell_type": "code",
      "metadata": {
        "id": "BtlXXdEHUv1t",
        "colab_type": "code",
        "outputId": "ef57f5e6-2d6f-4592-90ca-1c6703394fd4",
        "colab": {
          "base_uri": "https://localhost:8080/",
          "height": 612
        }
      },
      "source": [
        "from sklearn.ensemble import RandomForestClassifier\n",
        "from print_model_results import print_model_results\n",
        "fmodel = RandomForestClassifier(n_estimators = 30, min_samples_split = 87)\n",
        "print_model_results(X_train_sm, X_test_sm, y_train_sm, y_test_sm, fmodel)"
      ],
      "execution_count": 76,
      "outputs": [
        {
          "output_type": "stream",
          "text": [
            " Train score is 0.8717855409995148\n",
            "\n",
            "\n",
            "Test score is 0.8452958292919496\n",
            "\n",
            "\n",
            "\n",
            "Train confusion matrix is \n",
            " [[3607  515]\n",
            " [ 542 3580]]\n",
            "\n",
            "Test confusion matrix is \n",
            " [[886 145]\n",
            " [174 857]]\n",
            "\n",
            "\n",
            "\n",
            "Test Set classification report is \n",
            "               precision    recall  f1-score   support\n",
            "\n",
            "         0.0       0.84      0.86      0.85      1031\n",
            "         1.0       0.86      0.83      0.84      1031\n",
            "\n",
            "    accuracy                           0.85      2062\n",
            "   macro avg       0.85      0.85      0.85      2062\n",
            "weighted avg       0.85      0.85      0.85      2062\n",
            "\n"
          ],
          "name": "stdout"
        },
        {
          "output_type": "execute_result",
          "data": {
            "text/plain": [
              "RandomForestClassifier(bootstrap=True, ccp_alpha=0.0, class_weight=None,\n",
              "                       criterion='gini', max_depth=None, max_features='auto',\n",
              "                       max_leaf_nodes=None, max_samples=None,\n",
              "                       min_impurity_decrease=0.0, min_impurity_split=None,\n",
              "                       min_samples_leaf=1, min_samples_split=87,\n",
              "                       min_weight_fraction_leaf=0.0, n_estimators=30,\n",
              "                       n_jobs=None, oob_score=False, random_state=None,\n",
              "                       verbose=0, warm_start=False)"
            ]
          },
          "metadata": {
            "tags": []
          },
          "execution_count": 76
        }
      ]
    },
    {
      "cell_type": "markdown",
      "metadata": {
        "id": "j4BMzb4cUv5j",
        "colab_type": "text"
      },
      "source": [
        "###XgbClassifier"
      ]
    },
    {
      "cell_type": "code",
      "metadata": {
        "id": "mbLo6yszIXqB",
        "colab_type": "code",
        "colab": {}
      },
      "source": [
        "from xgboost import XGBClassifier"
      ],
      "execution_count": 0,
      "outputs": []
    },
    {
      "cell_type": "code",
      "metadata": {
        "id": "et21V7EyUv_t",
        "colab_type": "code",
        "colab": {}
      },
      "source": [
        "xgb = XGBClassifier(learning_rate= .04)"
      ],
      "execution_count": 0,
      "outputs": []
    },
    {
      "cell_type": "code",
      "metadata": {
        "id": "2Z0CA1dyIfKv",
        "colab_type": "code",
        "outputId": "c68c697f-ddc1-4c6e-b303-fa6221a824f8",
        "colab": {
          "base_uri": "https://localhost:8080/",
          "height": 595
        }
      },
      "source": [
        "print_model_results(X_train_sm, X_test_sm, y_train_sm, y_test_sm, xgb)"
      ],
      "execution_count": 130,
      "outputs": [
        {
          "output_type": "stream",
          "text": [
            " Train score is 0.8549247937894227\n",
            "\n",
            "\n",
            "Test score is 0.8360814742967992\n",
            "\n",
            "\n",
            "\n",
            "Train confusion matrix is \n",
            " [[3410  712]\n",
            " [ 484 3638]]\n",
            "\n",
            "Test confusion matrix is \n",
            " [[845 186]\n",
            " [152 879]]\n",
            "\n",
            "\n",
            "\n",
            "Test Set classification report is \n",
            "               precision    recall  f1-score   support\n",
            "\n",
            "         0.0       0.85      0.82      0.83      1031\n",
            "         1.0       0.83      0.85      0.84      1031\n",
            "\n",
            "    accuracy                           0.84      2062\n",
            "   macro avg       0.84      0.84      0.84      2062\n",
            "weighted avg       0.84      0.84      0.84      2062\n",
            "\n"
          ],
          "name": "stdout"
        },
        {
          "output_type": "execute_result",
          "data": {
            "text/plain": [
              "XGBClassifier(base_score=0.5, booster='gbtree', colsample_bylevel=1,\n",
              "              colsample_bynode=1, colsample_bytree=1, gamma=0,\n",
              "              learning_rate=0.04, max_delta_step=0, max_depth=3,\n",
              "              min_child_weight=1, missing=None, n_estimators=100, n_jobs=1,\n",
              "              nthread=None, objective='binary:logistic', random_state=0,\n",
              "              reg_alpha=0, reg_lambda=1, scale_pos_weight=1, seed=None,\n",
              "              silent=None, subsample=1, verbosity=1)"
            ]
          },
          "metadata": {
            "tags": []
          },
          "execution_count": 130
        }
      ]
    },
    {
      "cell_type": "code",
      "metadata": {
        "id": "dCOF-fBPrhCM",
        "colab_type": "code",
        "colab": {
          "base_uri": "https://localhost:8080/",
          "height": 51
        },
        "outputId": "f106eee0-d176-4c8f-c726-ca5b1cf3bd1c"
      },
      "source": [
        "confusion_matrix(y_validation, xgb.predict(X_validation.values))"
      ],
      "execution_count": 131,
      "outputs": [
        {
          "output_type": "execute_result",
          "data": {
            "text/plain": [
              "array([[19,  2],\n",
              "       [ 0,  9]])"
            ]
          },
          "metadata": {
            "tags": []
          },
          "execution_count": 131
        }
      ]
    },
    {
      "cell_type": "markdown",
      "metadata": {
        "id": "BQTHFshONJiA",
        "colab_type": "text"
      },
      "source": [
        "####for validation data"
      ]
    },
    {
      "cell_type": "code",
      "metadata": {
        "id": "_aYWWGneJeZy",
        "colab_type": "code",
        "outputId": "34b43ee7-78ef-43f6-e248-6619a79959eb",
        "colab": {
          "base_uri": "https://localhost:8080/",
          "height": 34
        }
      },
      "source": [
        "X_sm.shape, X_validation.shape"
      ],
      "execution_count": 80,
      "outputs": [
        {
          "output_type": "execute_result",
          "data": {
            "text/plain": [
              "((10306, 30), (30, 30))"
            ]
          },
          "metadata": {
            "tags": []
          },
          "execution_count": 80
        }
      ]
    },
    {
      "cell_type": "code",
      "metadata": {
        "id": "SpegnuHQtsdm",
        "colab_type": "code",
        "outputId": "dc58d613-6b27-4743-f4e9-300d3c79c66a",
        "colab": {
          "base_uri": "https://localhost:8080/",
          "height": 595
        }
      },
      "source": [
        "xgb = XGBClassifier(random_state=2, learning_rate=.04)\n",
        "print_model_results(X_sm, X_validation.values, y_sm, y_validation, xgb)"
      ],
      "execution_count": 115,
      "outputs": [
        {
          "output_type": "stream",
          "text": [
            " Train score is 0.8543566854259654\n",
            "\n",
            "\n",
            "Test score is 0.9333333333333333\n",
            "\n",
            "\n",
            "\n",
            "Train confusion matrix is \n",
            " [[4304  849]\n",
            " [ 652 4501]]\n",
            "\n",
            "Test confusion matrix is \n",
            " [[19  2]\n",
            " [ 0  9]]\n",
            "\n",
            "\n",
            "\n",
            "Test Set classification report is \n",
            "               precision    recall  f1-score   support\n",
            "\n",
            "         0.0       1.00      0.90      0.95        21\n",
            "         1.0       0.82      1.00      0.90         9\n",
            "\n",
            "    accuracy                           0.93        30\n",
            "   macro avg       0.91      0.95      0.93        30\n",
            "weighted avg       0.95      0.93      0.94        30\n",
            "\n"
          ],
          "name": "stdout"
        },
        {
          "output_type": "execute_result",
          "data": {
            "text/plain": [
              "XGBClassifier(base_score=0.5, booster='gbtree', colsample_bylevel=1,\n",
              "              colsample_bynode=1, colsample_bytree=1, gamma=0,\n",
              "              learning_rate=0.04, max_delta_step=0, max_depth=3,\n",
              "              min_child_weight=1, missing=None, n_estimators=100, n_jobs=1,\n",
              "              nthread=None, objective='binary:logistic', random_state=2,\n",
              "              reg_alpha=0, reg_lambda=1, scale_pos_weight=1, seed=None,\n",
              "              silent=None, subsample=1, verbosity=1)"
            ]
          },
          "metadata": {
            "tags": []
          },
          "execution_count": 115
        }
      ]
    },
    {
      "cell_type": "markdown",
      "metadata": {
        "id": "xhzF8D0p3Itq",
        "colab_type": "text"
      },
      "source": [
        "# Model Evaluation"
      ]
    },
    {
      "cell_type": "markdown",
      "metadata": {
        "id": "z8p7i-3-NRo_",
        "colab_type": "text"
      },
      "source": [
        "##roc curve"
      ]
    },
    {
      "cell_type": "code",
      "metadata": {
        "id": "DfIglvTbIp8p",
        "colab_type": "code",
        "colab": {}
      },
      "source": [
        "from my_roc_curve import my_roc_curve"
      ],
      "execution_count": 0,
      "outputs": []
    },
    {
      "cell_type": "code",
      "metadata": {
        "id": "T8upo_Onf2gv",
        "colab_type": "code",
        "colab": {}
      },
      "source": [
        "model = XGBClassifier(learning_rate=.04)"
      ],
      "execution_count": 0,
      "outputs": []
    },
    {
      "cell_type": "code",
      "metadata": {
        "id": "yInt_ikagDob",
        "colab_type": "code",
        "outputId": "82595451-ac08-42d3-ac87-6afee136d03a",
        "colab": {
          "base_uri": "https://localhost:8080/",
          "height": 136
        }
      },
      "source": [
        "model.fit(X_train_sm, y_train_sm)"
      ],
      "execution_count": 142,
      "outputs": [
        {
          "output_type": "execute_result",
          "data": {
            "text/plain": [
              "XGBClassifier(base_score=0.5, booster='gbtree', colsample_bylevel=1,\n",
              "              colsample_bynode=1, colsample_bytree=1, gamma=0,\n",
              "              learning_rate=0.04, max_delta_step=0, max_depth=3,\n",
              "              min_child_weight=1, missing=None, n_estimators=100, n_jobs=1,\n",
              "              nthread=None, objective='binary:logistic', random_state=0,\n",
              "              reg_alpha=0, reg_lambda=1, scale_pos_weight=1, seed=None,\n",
              "              silent=None, subsample=1, verbosity=1)"
            ]
          },
          "metadata": {
            "tags": []
          },
          "execution_count": 142
        }
      ]
    },
    {
      "cell_type": "code",
      "metadata": {
        "id": "GCRlcPzjIpyJ",
        "colab_type": "code",
        "outputId": "0338de70-f200-41c8-d5bb-3a9b13e42c8b",
        "colab": {
          "base_uri": "https://localhost:8080/",
          "height": 297
        }
      },
      "source": [
        "my_roc_curve(model, X_test_sm, y_test_sm, )"
      ],
      "execution_count": 143,
      "outputs": [
        {
          "output_type": "display_data",
          "data": {
            "image/png": "[encoded data removed]",
            "text/plain": [
              "<Figure size 432x288 with 1 Axes>"
            ]
          },
          "metadata": {
            "tags": []
          }
        }
      ]
    },
    {
      "cell_type": "code",
      "metadata": {
        "id": "0mdcexvghgny",
        "colab_type": "code",
        "colab": {}
      },
      "source": [
        "fpr, tpr, thresholds = my_global_variables.model_fpr_tpr_thresholds['XGBClassifier']"
      ],
      "execution_count": 0,
      "outputs": []
    },
    {
      "cell_type": "code",
      "metadata": {
        "id": "eA7jt1Dmh9R2",
        "colab_type": "code",
        "colab": {}
      },
      "source": [
        "def evaluate_threshold(threshold):\n",
        "    print('Sensitivity:', tpr[thresholds > threshold][-1])\n",
        "    print('Specificity:', 1 - fpr[thresholds > threshold][-1])"
      ],
      "execution_count": 0,
      "outputs": []
    },
    {
      "cell_type": "code",
      "metadata": {
        "id": "RZplMkXDiD1i",
        "colab_type": "code",
        "outputId": "cc617234-5c2f-4295-f0c2-2452237feede",
        "colab": {
          "base_uri": "https://localhost:8080/",
          "height": 51
        }
      },
      "source": [
        "evaluate_threshold(.5)"
      ],
      "execution_count": 147,
      "outputs": [
        {
          "output_type": "stream",
          "text": [
            "Sensitivity: 0.8525703200775946\n",
            "Specificity: 0.8195926285160039\n"
          ],
          "name": "stdout"
        }
      ]
    },
    {
      "cell_type": "markdown",
      "metadata": {
        "id": "ez5ipf1qNVOr",
        "colab_type": "text"
      },
      "source": [
        "##cap curve"
      ]
    },
    {
      "cell_type": "code",
      "metadata": {
        "id": "nzzvJn5pIpiS",
        "colab_type": "code",
        "colab": {}
      },
      "source": [
        "from my_cap_curve import my_cap_curve"
      ],
      "execution_count": 0,
      "outputs": []
    },
    {
      "cell_type": "code",
      "metadata": {
        "id": "JUYvFmQCgQkF",
        "colab_type": "code",
        "outputId": "37ada853-0c50-4806-b0fd-777c579338cd",
        "colab": {
          "base_uri": "https://localhost:8080/",
          "height": 351
        }
      },
      "source": [
        "my_cap_curve(model, X_test_sm, y_test_sm, )"
      ],
      "execution_count": 149,
      "outputs": [
        {
          "output_type": "display_data",
          "data": {
            "image/png": "[encoded data removed]",
            "text/plain": [
              "<Figure size 720x360 with 1 Axes>"
            ]
          },
          "metadata": {
            "tags": []
          }
        }
      ]
    },
    {
      "cell_type": "code",
      "metadata": {
        "id": "44WnUvEnn0ff",
        "colab_type": "code",
        "colab": {
          "base_uri": "https://localhost:8080/",
          "height": 80
        },
        "outputId": "35a76a3d-0e61-4cf4-925d-b6f6aadfe795"
      },
      "source": [
        "feature_importance = pd.DataFrame(np.array([X.columns, model.feature_importances_]).T, columns = ['feature_name', 'importance'])\n",
        "feature_importance.head(1)"
      ],
      "execution_count": 150,
      "outputs": [
        {
          "output_type": "execute_result",
          "data": {
            "text/html": [
              "<div>\n",
              "<style scoped>\n",
              "    .dataframe tbody tr th:only-of-type {\n",
              "        vertical-align: middle;\n",
              "    }\n",
              "\n",
              "    .dataframe tbody tr th {\n",
              "        vertical-align: top;\n",
              "    }\n",
              "\n",
              "    .dataframe thead th {\n",
              "        text-align: right;\n",
              "    }\n",
              "</style>\n",
              "<table border=\"1\" class=\"dataframe\">\n",
              "  <thead>\n",
              "    <tr style=\"text-align: right;\">\n",
              "      <th></th>\n",
              "      <th>feature_name</th>\n",
              "      <th>importance</th>\n",
              "    </tr>\n",
              "  </thead>\n",
              "  <tbody>\n",
              "    <tr>\n",
              "      <th>0</th>\n",
              "      <td>gender_Male</td>\n",
              "      <td>0.00640751</td>\n",
              "    </tr>\n",
              "  </tbody>\n",
              "</table>\n",
              "</div>"
            ],
            "text/plain": [
              "  feature_name  importance\n",
              "0  gender_Male  0.00640751"
            ]
          },
          "metadata": {
            "tags": []
          },
          "execution_count": 150
        }
      ]
    },
    {
      "cell_type": "code",
      "metadata": {
        "id": "_v_swWIVpdop",
        "colab_type": "code",
        "colab": {
          "base_uri": "https://localhost:8080/",
          "height": 111
        },
        "outputId": "79493f79-856f-4dc2-d7f3-e3e9d054f9be"
      },
      "source": [
        "feature_importance.sort_values(by = 'importance', ascending=False, inplace = True)\n",
        "feature_importance.head(2)"
      ],
      "execution_count": 151,
      "outputs": [
        {
          "output_type": "execute_result",
          "data": {
            "text/html": [
              "<div>\n",
              "<style scoped>\n",
              "    .dataframe tbody tr th:only-of-type {\n",
              "        vertical-align: middle;\n",
              "    }\n",
              "\n",
              "    .dataframe tbody tr th {\n",
              "        vertical-align: top;\n",
              "    }\n",
              "\n",
              "    .dataframe thead th {\n",
              "        text-align: right;\n",
              "    }\n",
              "</style>\n",
              "<table border=\"1\" class=\"dataframe\">\n",
              "  <thead>\n",
              "    <tr style=\"text-align: right;\">\n",
              "      <th></th>\n",
              "      <th>feature_name</th>\n",
              "      <th>importance</th>\n",
              "    </tr>\n",
              "  </thead>\n",
              "  <tbody>\n",
              "    <tr>\n",
              "      <th>24</th>\n",
              "      <td>PaymentMethod_Electronic check</td>\n",
              "      <td>0.18877</td>\n",
              "    </tr>\n",
              "    <tr>\n",
              "      <th>20</th>\n",
              "      <td>Contract_One year</td>\n",
              "      <td>0.143694</td>\n",
              "    </tr>\n",
              "  </tbody>\n",
              "</table>\n",
              "</div>"
            ],
            "text/plain": [
              "                      feature_name importance\n",
              "24  PaymentMethod_Electronic check    0.18877\n",
              "20               Contract_One year   0.143694"
            ]
          },
          "metadata": {
            "tags": []
          },
          "execution_count": 151
        }
      ]
    },
    {
      "cell_type": "code",
      "metadata": {
        "id": "fShgBCbkpMIW",
        "colab_type": "code",
        "colab": {
          "base_uri": "https://localhost:8080/",
          "height": 453
        },
        "outputId": "062676d0-909b-4148-bb12-baacce779151"
      },
      "source": [
        "sns.barplot(x = 'feature_name', y = 'importance', data = feature_importance)\n",
        "plt.xticks(rotation = -90)\n",
        "plt.show()"
      ],
      "execution_count": 152,
      "outputs": [
        {
          "output_type": "display_data",
          "data": {
            "image/png": "[encoded data removed]",
            "text/plain": [
              "<Figure size 432x288 with 1 Axes>"
            ]
          },
          "metadata": {
            "tags": []
          }
        }
      ]
    },
    {
      "cell_type": "markdown",
      "metadata": {
        "id": "RpTa-Abs3It5",
        "colab_type": "text"
      },
      "source": [
        "# Final Conclusions"
      ]
    },
    {
      "cell_type": "markdown",
      "metadata": {
        "id": "nHjo-xZkvDgB",
        "colab_type": "text"
      },
      "source": [
        "There is a hight impact of two features to our model\n",
        "one is **PaymentMethod** and other is **Contract**"
      ]
    },
    {
      "cell_type": "markdown",
      "metadata": {
        "id": "vy0kW2BlNoKi",
        "colab_type": "text"
      },
      "source": [
        "**PaymentMethod**\n",
        "\n",
        "\n",
        "when Paymentmethod is **Electronic Check** there are hight chances that the customer discontinue the subscription"
      ]
    },
    {
      "cell_type": "markdown",
      "metadata": {
        "id": "B41Gx1srvtOh",
        "colab_type": "text"
      },
      "source": [
        "**Contract**\n",
        "\n",
        "\n",
        "When contract is for **One Year** then there are hight chances that the customer discontinue the subscription"
      ]
    },
    {
      "cell_type": "code",
      "metadata": {
        "id": "_KSip_67wBlK",
        "colab_type": "code",
        "colab": {}
      },
      "source": [
        ""
      ],
      "execution_count": 0,
      "outputs": []
    }
  ]
}